{
  "nbformat": 4,
  "nbformat_minor": 0,
  "metadata": {
    "kernelspec": {
      "display_name": "Python 3",
      "language": "python",
      "name": "python3"
    },
    "language_info": {
      "codemirror_mode": {
        "name": "ipython",
        "version": 3
      },
      "file_extension": ".py",
      "mimetype": "text/x-python",
      "name": "python",
      "nbconvert_exporter": "python",
      "pygments_lexer": "ipython3",
      "version": "3.6.5"
    },
    "colab": {
      "name": "Presentation.ipynb",
      "provenance": []
    },
    "widgets": {
      "application/vnd.jupyter.widget-state+json": {
        "360c74d9b98b4fbb9d42ebd2f6e50f52": {
          "model_module": "@jupyter-widgets/controls",
          "model_name": "HBoxModel",
          "state": {
            "_view_name": "HBoxView",
            "_dom_classes": [],
            "_model_name": "HBoxModel",
            "_view_module": "@jupyter-widgets/controls",
            "_model_module_version": "1.5.0",
            "_view_count": null,
            "_view_module_version": "1.5.0",
            "box_style": "",
            "layout": "IPY_MODEL_83dc9973b5b248ab8732cb50c3e9124c",
            "_model_module": "@jupyter-widgets/controls",
            "children": [
              "IPY_MODEL_809a525970184b918cc385a59dbafc64",
              "IPY_MODEL_9660057083484d229e49e93e70008312"
            ]
          }
        },
        "83dc9973b5b248ab8732cb50c3e9124c": {
          "model_module": "@jupyter-widgets/base",
          "model_name": "LayoutModel",
          "state": {
            "_view_name": "LayoutView",
            "grid_template_rows": null,
            "right": null,
            "justify_content": null,
            "_view_module": "@jupyter-widgets/base",
            "overflow": null,
            "_model_module_version": "1.2.0",
            "_view_count": null,
            "flex_flow": null,
            "width": null,
            "min_width": null,
            "border": null,
            "align_items": null,
            "bottom": null,
            "_model_module": "@jupyter-widgets/base",
            "top": null,
            "grid_column": null,
            "overflow_y": null,
            "overflow_x": null,
            "grid_auto_flow": null,
            "grid_area": null,
            "grid_template_columns": null,
            "flex": null,
            "_model_name": "LayoutModel",
            "justify_items": null,
            "grid_row": null,
            "max_height": null,
            "align_content": null,
            "visibility": null,
            "align_self": null,
            "height": null,
            "min_height": null,
            "padding": null,
            "grid_auto_rows": null,
            "grid_gap": null,
            "max_width": null,
            "order": null,
            "_view_module_version": "1.2.0",
            "grid_template_areas": null,
            "object_position": null,
            "object_fit": null,
            "grid_auto_columns": null,
            "margin": null,
            "display": null,
            "left": null
          }
        },
        "809a525970184b918cc385a59dbafc64": {
          "model_module": "@jupyter-widgets/controls",
          "model_name": "FloatProgressModel",
          "state": {
            "_view_name": "ProgressView",
            "style": "IPY_MODEL_509ed1f3625b4dac8add71ce873bfbf6",
            "_dom_classes": [],
            "description": "Downloading: 100%",
            "_model_name": "FloatProgressModel",
            "bar_style": "success",
            "max": 433,
            "_view_module": "@jupyter-widgets/controls",
            "_model_module_version": "1.5.0",
            "value": 433,
            "_view_count": null,
            "_view_module_version": "1.5.0",
            "orientation": "horizontal",
            "min": 0,
            "description_tooltip": null,
            "_model_module": "@jupyter-widgets/controls",
            "layout": "IPY_MODEL_c8b396a1b45444c09425e68b7a6afd99"
          }
        },
        "9660057083484d229e49e93e70008312": {
          "model_module": "@jupyter-widgets/controls",
          "model_name": "HTMLModel",
          "state": {
            "_view_name": "HTMLView",
            "style": "IPY_MODEL_def902af28da4b60b62852da40a1fd63",
            "_dom_classes": [],
            "description": "",
            "_model_name": "HTMLModel",
            "placeholder": "​",
            "_view_module": "@jupyter-widgets/controls",
            "_model_module_version": "1.5.0",
            "value": " 433/433 [00:00&lt;00:00, 1.26kB/s]",
            "_view_count": null,
            "_view_module_version": "1.5.0",
            "description_tooltip": null,
            "_model_module": "@jupyter-widgets/controls",
            "layout": "IPY_MODEL_84ac1ca60aec4951a80c58029b68b334"
          }
        },
        "509ed1f3625b4dac8add71ce873bfbf6": {
          "model_module": "@jupyter-widgets/controls",
          "model_name": "ProgressStyleModel",
          "state": {
            "_view_name": "StyleView",
            "_model_name": "ProgressStyleModel",
            "description_width": "initial",
            "_view_module": "@jupyter-widgets/base",
            "_model_module_version": "1.5.0",
            "_view_count": null,
            "_view_module_version": "1.2.0",
            "bar_color": null,
            "_model_module": "@jupyter-widgets/controls"
          }
        },
        "c8b396a1b45444c09425e68b7a6afd99": {
          "model_module": "@jupyter-widgets/base",
          "model_name": "LayoutModel",
          "state": {
            "_view_name": "LayoutView",
            "grid_template_rows": null,
            "right": null,
            "justify_content": null,
            "_view_module": "@jupyter-widgets/base",
            "overflow": null,
            "_model_module_version": "1.2.0",
            "_view_count": null,
            "flex_flow": null,
            "width": null,
            "min_width": null,
            "border": null,
            "align_items": null,
            "bottom": null,
            "_model_module": "@jupyter-widgets/base",
            "top": null,
            "grid_column": null,
            "overflow_y": null,
            "overflow_x": null,
            "grid_auto_flow": null,
            "grid_area": null,
            "grid_template_columns": null,
            "flex": null,
            "_model_name": "LayoutModel",
            "justify_items": null,
            "grid_row": null,
            "max_height": null,
            "align_content": null,
            "visibility": null,
            "align_self": null,
            "height": null,
            "min_height": null,
            "padding": null,
            "grid_auto_rows": null,
            "grid_gap": null,
            "max_width": null,
            "order": null,
            "_view_module_version": "1.2.0",
            "grid_template_areas": null,
            "object_position": null,
            "object_fit": null,
            "grid_auto_columns": null,
            "margin": null,
            "display": null,
            "left": null
          }
        },
        "def902af28da4b60b62852da40a1fd63": {
          "model_module": "@jupyter-widgets/controls",
          "model_name": "DescriptionStyleModel",
          "state": {
            "_view_name": "StyleView",
            "_model_name": "DescriptionStyleModel",
            "description_width": "",
            "_view_module": "@jupyter-widgets/base",
            "_model_module_version": "1.5.0",
            "_view_count": null,
            "_view_module_version": "1.2.0",
            "_model_module": "@jupyter-widgets/controls"
          }
        },
        "84ac1ca60aec4951a80c58029b68b334": {
          "model_module": "@jupyter-widgets/base",
          "model_name": "LayoutModel",
          "state": {
            "_view_name": "LayoutView",
            "grid_template_rows": null,
            "right": null,
            "justify_content": null,
            "_view_module": "@jupyter-widgets/base",
            "overflow": null,
            "_model_module_version": "1.2.0",
            "_view_count": null,
            "flex_flow": null,
            "width": null,
            "min_width": null,
            "border": null,
            "align_items": null,
            "bottom": null,
            "_model_module": "@jupyter-widgets/base",
            "top": null,
            "grid_column": null,
            "overflow_y": null,
            "overflow_x": null,
            "grid_auto_flow": null,
            "grid_area": null,
            "grid_template_columns": null,
            "flex": null,
            "_model_name": "LayoutModel",
            "justify_items": null,
            "grid_row": null,
            "max_height": null,
            "align_content": null,
            "visibility": null,
            "align_self": null,
            "height": null,
            "min_height": null,
            "padding": null,
            "grid_auto_rows": null,
            "grid_gap": null,
            "max_width": null,
            "order": null,
            "_view_module_version": "1.2.0",
            "grid_template_areas": null,
            "object_position": null,
            "object_fit": null,
            "grid_auto_columns": null,
            "margin": null,
            "display": null,
            "left": null
          }
        },
        "fb5c986368724447912867fd21933520": {
          "model_module": "@jupyter-widgets/controls",
          "model_name": "HBoxModel",
          "state": {
            "_view_name": "HBoxView",
            "_dom_classes": [],
            "_model_name": "HBoxModel",
            "_view_module": "@jupyter-widgets/controls",
            "_model_module_version": "1.5.0",
            "_view_count": null,
            "_view_module_version": "1.5.0",
            "box_style": "",
            "layout": "IPY_MODEL_cc7d73d75103440ea5ece01ce553ef35",
            "_model_module": "@jupyter-widgets/controls",
            "children": [
              "IPY_MODEL_2b9655f78fc0472d9134abd477201108",
              "IPY_MODEL_8de0ddb4e74541bc91324763dd25be25"
            ]
          }
        },
        "cc7d73d75103440ea5ece01ce553ef35": {
          "model_module": "@jupyter-widgets/base",
          "model_name": "LayoutModel",
          "state": {
            "_view_name": "LayoutView",
            "grid_template_rows": null,
            "right": null,
            "justify_content": null,
            "_view_module": "@jupyter-widgets/base",
            "overflow": null,
            "_model_module_version": "1.2.0",
            "_view_count": null,
            "flex_flow": null,
            "width": null,
            "min_width": null,
            "border": null,
            "align_items": null,
            "bottom": null,
            "_model_module": "@jupyter-widgets/base",
            "top": null,
            "grid_column": null,
            "overflow_y": null,
            "overflow_x": null,
            "grid_auto_flow": null,
            "grid_area": null,
            "grid_template_columns": null,
            "flex": null,
            "_model_name": "LayoutModel",
            "justify_items": null,
            "grid_row": null,
            "max_height": null,
            "align_content": null,
            "visibility": null,
            "align_self": null,
            "height": null,
            "min_height": null,
            "padding": null,
            "grid_auto_rows": null,
            "grid_gap": null,
            "max_width": null,
            "order": null,
            "_view_module_version": "1.2.0",
            "grid_template_areas": null,
            "object_position": null,
            "object_fit": null,
            "grid_auto_columns": null,
            "margin": null,
            "display": null,
            "left": null
          }
        },
        "2b9655f78fc0472d9134abd477201108": {
          "model_module": "@jupyter-widgets/controls",
          "model_name": "FloatProgressModel",
          "state": {
            "_view_name": "ProgressView",
            "style": "IPY_MODEL_abd48158bc4545e3b293b1f6533420da",
            "_dom_classes": [],
            "description": "Downloading: 100%",
            "_model_name": "FloatProgressModel",
            "bar_style": "success",
            "max": 213450,
            "_view_module": "@jupyter-widgets/controls",
            "_model_module_version": "1.5.0",
            "value": 213450,
            "_view_count": null,
            "_view_module_version": "1.5.0",
            "orientation": "horizontal",
            "min": 0,
            "description_tooltip": null,
            "_model_module": "@jupyter-widgets/controls",
            "layout": "IPY_MODEL_528e32d88b8e46de9b4bd45e57c0e380"
          }
        },
        "8de0ddb4e74541bc91324763dd25be25": {
          "model_module": "@jupyter-widgets/controls",
          "model_name": "HTMLModel",
          "state": {
            "_view_name": "HTMLView",
            "style": "IPY_MODEL_e566e894b58a4eeb8e3d2477a4da3321",
            "_dom_classes": [],
            "description": "",
            "_model_name": "HTMLModel",
            "placeholder": "​",
            "_view_module": "@jupyter-widgets/controls",
            "_model_module_version": "1.5.0",
            "value": " 213k/213k [00:02&lt;00:00, 82.6kB/s]",
            "_view_count": null,
            "_view_module_version": "1.5.0",
            "description_tooltip": null,
            "_model_module": "@jupyter-widgets/controls",
            "layout": "IPY_MODEL_e8e0fdc56548410e9b6d25f54722143e"
          }
        },
        "abd48158bc4545e3b293b1f6533420da": {
          "model_module": "@jupyter-widgets/controls",
          "model_name": "ProgressStyleModel",
          "state": {
            "_view_name": "StyleView",
            "_model_name": "ProgressStyleModel",
            "description_width": "initial",
            "_view_module": "@jupyter-widgets/base",
            "_model_module_version": "1.5.0",
            "_view_count": null,
            "_view_module_version": "1.2.0",
            "bar_color": null,
            "_model_module": "@jupyter-widgets/controls"
          }
        },
        "528e32d88b8e46de9b4bd45e57c0e380": {
          "model_module": "@jupyter-widgets/base",
          "model_name": "LayoutModel",
          "state": {
            "_view_name": "LayoutView",
            "grid_template_rows": null,
            "right": null,
            "justify_content": null,
            "_view_module": "@jupyter-widgets/base",
            "overflow": null,
            "_model_module_version": "1.2.0",
            "_view_count": null,
            "flex_flow": null,
            "width": null,
            "min_width": null,
            "border": null,
            "align_items": null,
            "bottom": null,
            "_model_module": "@jupyter-widgets/base",
            "top": null,
            "grid_column": null,
            "overflow_y": null,
            "overflow_x": null,
            "grid_auto_flow": null,
            "grid_area": null,
            "grid_template_columns": null,
            "flex": null,
            "_model_name": "LayoutModel",
            "justify_items": null,
            "grid_row": null,
            "max_height": null,
            "align_content": null,
            "visibility": null,
            "align_self": null,
            "height": null,
            "min_height": null,
            "padding": null,
            "grid_auto_rows": null,
            "grid_gap": null,
            "max_width": null,
            "order": null,
            "_view_module_version": "1.2.0",
            "grid_template_areas": null,
            "object_position": null,
            "object_fit": null,
            "grid_auto_columns": null,
            "margin": null,
            "display": null,
            "left": null
          }
        },
        "e566e894b58a4eeb8e3d2477a4da3321": {
          "model_module": "@jupyter-widgets/controls",
          "model_name": "DescriptionStyleModel",
          "state": {
            "_view_name": "StyleView",
            "_model_name": "DescriptionStyleModel",
            "description_width": "",
            "_view_module": "@jupyter-widgets/base",
            "_model_module_version": "1.5.0",
            "_view_count": null,
            "_view_module_version": "1.2.0",
            "_model_module": "@jupyter-widgets/controls"
          }
        },
        "e8e0fdc56548410e9b6d25f54722143e": {
          "model_module": "@jupyter-widgets/base",
          "model_name": "LayoutModel",
          "state": {
            "_view_name": "LayoutView",
            "grid_template_rows": null,
            "right": null,
            "justify_content": null,
            "_view_module": "@jupyter-widgets/base",
            "overflow": null,
            "_model_module_version": "1.2.0",
            "_view_count": null,
            "flex_flow": null,
            "width": null,
            "min_width": null,
            "border": null,
            "align_items": null,
            "bottom": null,
            "_model_module": "@jupyter-widgets/base",
            "top": null,
            "grid_column": null,
            "overflow_y": null,
            "overflow_x": null,
            "grid_auto_flow": null,
            "grid_area": null,
            "grid_template_columns": null,
            "flex": null,
            "_model_name": "LayoutModel",
            "justify_items": null,
            "grid_row": null,
            "max_height": null,
            "align_content": null,
            "visibility": null,
            "align_self": null,
            "height": null,
            "min_height": null,
            "padding": null,
            "grid_auto_rows": null,
            "grid_gap": null,
            "max_width": null,
            "order": null,
            "_view_module_version": "1.2.0",
            "grid_template_areas": null,
            "object_position": null,
            "object_fit": null,
            "grid_auto_columns": null,
            "margin": null,
            "display": null,
            "left": null
          }
        },
        "688cb30c35264aeb999c2f85ad0dafa7": {
          "model_module": "@jupyter-widgets/controls",
          "model_name": "HBoxModel",
          "state": {
            "_view_name": "HBoxView",
            "_dom_classes": [],
            "_model_name": "HBoxModel",
            "_view_module": "@jupyter-widgets/controls",
            "_model_module_version": "1.5.0",
            "_view_count": null,
            "_view_module_version": "1.5.0",
            "box_style": "",
            "layout": "IPY_MODEL_1d7135e2a4a64ecbaf893849b5d34c1a",
            "_model_module": "@jupyter-widgets/controls",
            "children": [
              "IPY_MODEL_468b2b33b99a439086b659ded2f67f86",
              "IPY_MODEL_50161731ae06459097d1c42ce8936a3e"
            ]
          }
        },
        "1d7135e2a4a64ecbaf893849b5d34c1a": {
          "model_module": "@jupyter-widgets/base",
          "model_name": "LayoutModel",
          "state": {
            "_view_name": "LayoutView",
            "grid_template_rows": null,
            "right": null,
            "justify_content": null,
            "_view_module": "@jupyter-widgets/base",
            "overflow": null,
            "_model_module_version": "1.2.0",
            "_view_count": null,
            "flex_flow": null,
            "width": null,
            "min_width": null,
            "border": null,
            "align_items": null,
            "bottom": null,
            "_model_module": "@jupyter-widgets/base",
            "top": null,
            "grid_column": null,
            "overflow_y": null,
            "overflow_x": null,
            "grid_auto_flow": null,
            "grid_area": null,
            "grid_template_columns": null,
            "flex": null,
            "_model_name": "LayoutModel",
            "justify_items": null,
            "grid_row": null,
            "max_height": null,
            "align_content": null,
            "visibility": null,
            "align_self": null,
            "height": null,
            "min_height": null,
            "padding": null,
            "grid_auto_rows": null,
            "grid_gap": null,
            "max_width": null,
            "order": null,
            "_view_module_version": "1.2.0",
            "grid_template_areas": null,
            "object_position": null,
            "object_fit": null,
            "grid_auto_columns": null,
            "margin": null,
            "display": null,
            "left": null
          }
        },
        "468b2b33b99a439086b659ded2f67f86": {
          "model_module": "@jupyter-widgets/controls",
          "model_name": "FloatProgressModel",
          "state": {
            "_view_name": "ProgressView",
            "style": "IPY_MODEL_f825f86dc48247a3872d1cb81b02da83",
            "_dom_classes": [],
            "description": "Downloading: 100%",
            "_model_name": "FloatProgressModel",
            "bar_style": "success",
            "max": 435797,
            "_view_module": "@jupyter-widgets/controls",
            "_model_module_version": "1.5.0",
            "value": 435797,
            "_view_count": null,
            "_view_module_version": "1.5.0",
            "orientation": "horizontal",
            "min": 0,
            "description_tooltip": null,
            "_model_module": "@jupyter-widgets/controls",
            "layout": "IPY_MODEL_c8e23cc6055845c98e1084b473ab716a"
          }
        },
        "50161731ae06459097d1c42ce8936a3e": {
          "model_module": "@jupyter-widgets/controls",
          "model_name": "HTMLModel",
          "state": {
            "_view_name": "HTMLView",
            "style": "IPY_MODEL_fff14a42930f4677bf97f0015b44764d",
            "_dom_classes": [],
            "description": "",
            "_model_name": "HTMLModel",
            "placeholder": "​",
            "_view_module": "@jupyter-widgets/controls",
            "_model_module_version": "1.5.0",
            "value": " 436k/436k [00:01&lt;00:00, 260kB/s]",
            "_view_count": null,
            "_view_module_version": "1.5.0",
            "description_tooltip": null,
            "_model_module": "@jupyter-widgets/controls",
            "layout": "IPY_MODEL_ad8a6aa67623446a8c599d6c9841d894"
          }
        },
        "f825f86dc48247a3872d1cb81b02da83": {
          "model_module": "@jupyter-widgets/controls",
          "model_name": "ProgressStyleModel",
          "state": {
            "_view_name": "StyleView",
            "_model_name": "ProgressStyleModel",
            "description_width": "initial",
            "_view_module": "@jupyter-widgets/base",
            "_model_module_version": "1.5.0",
            "_view_count": null,
            "_view_module_version": "1.2.0",
            "bar_color": null,
            "_model_module": "@jupyter-widgets/controls"
          }
        },
        "c8e23cc6055845c98e1084b473ab716a": {
          "model_module": "@jupyter-widgets/base",
          "model_name": "LayoutModel",
          "state": {
            "_view_name": "LayoutView",
            "grid_template_rows": null,
            "right": null,
            "justify_content": null,
            "_view_module": "@jupyter-widgets/base",
            "overflow": null,
            "_model_module_version": "1.2.0",
            "_view_count": null,
            "flex_flow": null,
            "width": null,
            "min_width": null,
            "border": null,
            "align_items": null,
            "bottom": null,
            "_model_module": "@jupyter-widgets/base",
            "top": null,
            "grid_column": null,
            "overflow_y": null,
            "overflow_x": null,
            "grid_auto_flow": null,
            "grid_area": null,
            "grid_template_columns": null,
            "flex": null,
            "_model_name": "LayoutModel",
            "justify_items": null,
            "grid_row": null,
            "max_height": null,
            "align_content": null,
            "visibility": null,
            "align_self": null,
            "height": null,
            "min_height": null,
            "padding": null,
            "grid_auto_rows": null,
            "grid_gap": null,
            "max_width": null,
            "order": null,
            "_view_module_version": "1.2.0",
            "grid_template_areas": null,
            "object_position": null,
            "object_fit": null,
            "grid_auto_columns": null,
            "margin": null,
            "display": null,
            "left": null
          }
        },
        "fff14a42930f4677bf97f0015b44764d": {
          "model_module": "@jupyter-widgets/controls",
          "model_name": "DescriptionStyleModel",
          "state": {
            "_view_name": "StyleView",
            "_model_name": "DescriptionStyleModel",
            "description_width": "",
            "_view_module": "@jupyter-widgets/base",
            "_model_module_version": "1.5.0",
            "_view_count": null,
            "_view_module_version": "1.2.0",
            "_model_module": "@jupyter-widgets/controls"
          }
        },
        "ad8a6aa67623446a8c599d6c9841d894": {
          "model_module": "@jupyter-widgets/base",
          "model_name": "LayoutModel",
          "state": {
            "_view_name": "LayoutView",
            "grid_template_rows": null,
            "right": null,
            "justify_content": null,
            "_view_module": "@jupyter-widgets/base",
            "overflow": null,
            "_model_module_version": "1.2.0",
            "_view_count": null,
            "flex_flow": null,
            "width": null,
            "min_width": null,
            "border": null,
            "align_items": null,
            "bottom": null,
            "_model_module": "@jupyter-widgets/base",
            "top": null,
            "grid_column": null,
            "overflow_y": null,
            "overflow_x": null,
            "grid_auto_flow": null,
            "grid_area": null,
            "grid_template_columns": null,
            "flex": null,
            "_model_name": "LayoutModel",
            "justify_items": null,
            "grid_row": null,
            "max_height": null,
            "align_content": null,
            "visibility": null,
            "align_self": null,
            "height": null,
            "min_height": null,
            "padding": null,
            "grid_auto_rows": null,
            "grid_gap": null,
            "max_width": null,
            "order": null,
            "_view_module_version": "1.2.0",
            "grid_template_areas": null,
            "object_position": null,
            "object_fit": null,
            "grid_auto_columns": null,
            "margin": null,
            "display": null,
            "left": null
          }
        },
        "936abbbb1c24406aa0c1ac86c0d2ba5f": {
          "model_module": "@jupyter-widgets/controls",
          "model_name": "HBoxModel",
          "state": {
            "_view_name": "HBoxView",
            "_dom_classes": [],
            "_model_name": "HBoxModel",
            "_view_module": "@jupyter-widgets/controls",
            "_model_module_version": "1.5.0",
            "_view_count": null,
            "_view_module_version": "1.5.0",
            "box_style": "",
            "layout": "IPY_MODEL_20d05eed6ea74b4d98cab13979102767",
            "_model_module": "@jupyter-widgets/controls",
            "children": [
              "IPY_MODEL_142302826b3c4f0ca03c2c0bd0825299",
              "IPY_MODEL_9a077418f54247689fa4e5268d694c6f"
            ]
          }
        },
        "20d05eed6ea74b4d98cab13979102767": {
          "model_module": "@jupyter-widgets/base",
          "model_name": "LayoutModel",
          "state": {
            "_view_name": "LayoutView",
            "grid_template_rows": null,
            "right": null,
            "justify_content": null,
            "_view_module": "@jupyter-widgets/base",
            "overflow": null,
            "_model_module_version": "1.2.0",
            "_view_count": null,
            "flex_flow": null,
            "width": null,
            "min_width": null,
            "border": null,
            "align_items": null,
            "bottom": null,
            "_model_module": "@jupyter-widgets/base",
            "top": null,
            "grid_column": null,
            "overflow_y": null,
            "overflow_x": null,
            "grid_auto_flow": null,
            "grid_area": null,
            "grid_template_columns": null,
            "flex": null,
            "_model_name": "LayoutModel",
            "justify_items": null,
            "grid_row": null,
            "max_height": null,
            "align_content": null,
            "visibility": null,
            "align_self": null,
            "height": null,
            "min_height": null,
            "padding": null,
            "grid_auto_rows": null,
            "grid_gap": null,
            "max_width": null,
            "order": null,
            "_view_module_version": "1.2.0",
            "grid_template_areas": null,
            "object_position": null,
            "object_fit": null,
            "grid_auto_columns": null,
            "margin": null,
            "display": null,
            "left": null
          }
        },
        "142302826b3c4f0ca03c2c0bd0825299": {
          "model_module": "@jupyter-widgets/controls",
          "model_name": "FloatProgressModel",
          "state": {
            "_view_name": "ProgressView",
            "style": "IPY_MODEL_d1d32f6ab77b4f66b6cf5b7ebcef6689",
            "_dom_classes": [],
            "description": "Downloading: 100%",
            "_model_name": "FloatProgressModel",
            "bar_style": "success",
            "max": 433297515,
            "_view_module": "@jupyter-widgets/controls",
            "_model_module_version": "1.5.0",
            "value": 433297515,
            "_view_count": null,
            "_view_module_version": "1.5.0",
            "orientation": "horizontal",
            "min": 0,
            "description_tooltip": null,
            "_model_module": "@jupyter-widgets/controls",
            "layout": "IPY_MODEL_cadb628a3bd84fd19f0d9037a06b6044"
          }
        },
        "9a077418f54247689fa4e5268d694c6f": {
          "model_module": "@jupyter-widgets/controls",
          "model_name": "HTMLModel",
          "state": {
            "_view_name": "HTMLView",
            "style": "IPY_MODEL_c693490637bc44fcb04307de0c59b4b3",
            "_dom_classes": [],
            "description": "",
            "_model_name": "HTMLModel",
            "placeholder": "​",
            "_view_module": "@jupyter-widgets/controls",
            "_model_module_version": "1.5.0",
            "value": " 433M/433M [00:15&lt;00:00, 28.4MB/s]",
            "_view_count": null,
            "_view_module_version": "1.5.0",
            "description_tooltip": null,
            "_model_module": "@jupyter-widgets/controls",
            "layout": "IPY_MODEL_f3514375a30c46438b29a29a5dcbd017"
          }
        },
        "d1d32f6ab77b4f66b6cf5b7ebcef6689": {
          "model_module": "@jupyter-widgets/controls",
          "model_name": "ProgressStyleModel",
          "state": {
            "_view_name": "StyleView",
            "_model_name": "ProgressStyleModel",
            "description_width": "initial",
            "_view_module": "@jupyter-widgets/base",
            "_model_module_version": "1.5.0",
            "_view_count": null,
            "_view_module_version": "1.2.0",
            "bar_color": null,
            "_model_module": "@jupyter-widgets/controls"
          }
        },
        "cadb628a3bd84fd19f0d9037a06b6044": {
          "model_module": "@jupyter-widgets/base",
          "model_name": "LayoutModel",
          "state": {
            "_view_name": "LayoutView",
            "grid_template_rows": null,
            "right": null,
            "justify_content": null,
            "_view_module": "@jupyter-widgets/base",
            "overflow": null,
            "_model_module_version": "1.2.0",
            "_view_count": null,
            "flex_flow": null,
            "width": null,
            "min_width": null,
            "border": null,
            "align_items": null,
            "bottom": null,
            "_model_module": "@jupyter-widgets/base",
            "top": null,
            "grid_column": null,
            "overflow_y": null,
            "overflow_x": null,
            "grid_auto_flow": null,
            "grid_area": null,
            "grid_template_columns": null,
            "flex": null,
            "_model_name": "LayoutModel",
            "justify_items": null,
            "grid_row": null,
            "max_height": null,
            "align_content": null,
            "visibility": null,
            "align_self": null,
            "height": null,
            "min_height": null,
            "padding": null,
            "grid_auto_rows": null,
            "grid_gap": null,
            "max_width": null,
            "order": null,
            "_view_module_version": "1.2.0",
            "grid_template_areas": null,
            "object_position": null,
            "object_fit": null,
            "grid_auto_columns": null,
            "margin": null,
            "display": null,
            "left": null
          }
        },
        "c693490637bc44fcb04307de0c59b4b3": {
          "model_module": "@jupyter-widgets/controls",
          "model_name": "DescriptionStyleModel",
          "state": {
            "_view_name": "StyleView",
            "_model_name": "DescriptionStyleModel",
            "description_width": "",
            "_view_module": "@jupyter-widgets/base",
            "_model_module_version": "1.5.0",
            "_view_count": null,
            "_view_module_version": "1.2.0",
            "_model_module": "@jupyter-widgets/controls"
          }
        },
        "f3514375a30c46438b29a29a5dcbd017": {
          "model_module": "@jupyter-widgets/base",
          "model_name": "LayoutModel",
          "state": {
            "_view_name": "LayoutView",
            "grid_template_rows": null,
            "right": null,
            "justify_content": null,
            "_view_module": "@jupyter-widgets/base",
            "overflow": null,
            "_model_module_version": "1.2.0",
            "_view_count": null,
            "flex_flow": null,
            "width": null,
            "min_width": null,
            "border": null,
            "align_items": null,
            "bottom": null,
            "_model_module": "@jupyter-widgets/base",
            "top": null,
            "grid_column": null,
            "overflow_y": null,
            "overflow_x": null,
            "grid_auto_flow": null,
            "grid_area": null,
            "grid_template_columns": null,
            "flex": null,
            "_model_name": "LayoutModel",
            "justify_items": null,
            "grid_row": null,
            "max_height": null,
            "align_content": null,
            "visibility": null,
            "align_self": null,
            "height": null,
            "min_height": null,
            "padding": null,
            "grid_auto_rows": null,
            "grid_gap": null,
            "max_width": null,
            "order": null,
            "_view_module_version": "1.2.0",
            "grid_template_areas": null,
            "object_position": null,
            "object_fit": null,
            "grid_auto_columns": null,
            "margin": null,
            "display": null,
            "left": null
          }
        }
      }
    }
  },
  "cells": [
    {
      "cell_type": "code",
      "metadata": {
        "id": "fD4Kx9Q1Q7dc",
        "outputId": "346c9070-b841-47ef-833b-e0f60ba553cd",
        "colab": {
          "base_uri": "https://localhost:8080/"
        }
      },
      "source": [
        "pip install transformers"
      ],
      "execution_count": 1,
      "outputs": [
        {
          "output_type": "stream",
          "text": [
            "Collecting transformers\n",
            "\u001b[?25l  Downloading https://files.pythonhosted.org/packages/50/0c/7d5950fcd80b029be0a8891727ba21e0cd27692c407c51261c3c921f6da3/transformers-4.1.1-py3-none-any.whl (1.5MB)\n",
            "\r\u001b[K     |▏                               | 10kB 15.8MB/s eta 0:00:01\r\u001b[K     |▍                               | 20kB 21.2MB/s eta 0:00:01\r\u001b[K     |▋                               | 30kB 15.2MB/s eta 0:00:01\r\u001b[K     |▉                               | 40kB 12.3MB/s eta 0:00:01\r\u001b[K     |█                               | 51kB 13.7MB/s eta 0:00:01\r\u001b[K     |█▎                              | 61kB 13.7MB/s eta 0:00:01\r\u001b[K     |█▌                              | 71kB 11.6MB/s eta 0:00:01\r\u001b[K     |█▊                              | 81kB 12.4MB/s eta 0:00:01\r\u001b[K     |██                              | 92kB 11.5MB/s eta 0:00:01\r\u001b[K     |██▏                             | 102kB 10.9MB/s eta 0:00:01\r\u001b[K     |██▍                             | 112kB 10.9MB/s eta 0:00:01\r\u001b[K     |██▋                             | 122kB 10.9MB/s eta 0:00:01\r\u001b[K     |██▉                             | 133kB 10.9MB/s eta 0:00:01\r\u001b[K     |███                             | 143kB 10.9MB/s eta 0:00:01\r\u001b[K     |███▎                            | 153kB 10.9MB/s eta 0:00:01\r\u001b[K     |███▌                            | 163kB 10.9MB/s eta 0:00:01\r\u001b[K     |███▊                            | 174kB 10.9MB/s eta 0:00:01\r\u001b[K     |████                            | 184kB 10.9MB/s eta 0:00:01\r\u001b[K     |████▏                           | 194kB 10.9MB/s eta 0:00:01\r\u001b[K     |████▎                           | 204kB 10.9MB/s eta 0:00:01\r\u001b[K     |████▌                           | 215kB 10.9MB/s eta 0:00:01\r\u001b[K     |████▊                           | 225kB 10.9MB/s eta 0:00:01\r\u001b[K     |█████                           | 235kB 10.9MB/s eta 0:00:01\r\u001b[K     |█████▏                          | 245kB 10.9MB/s eta 0:00:01\r\u001b[K     |█████▍                          | 256kB 10.9MB/s eta 0:00:01\r\u001b[K     |█████▋                          | 266kB 10.9MB/s eta 0:00:01\r\u001b[K     |█████▉                          | 276kB 10.9MB/s eta 0:00:01\r\u001b[K     |██████                          | 286kB 10.9MB/s eta 0:00:01\r\u001b[K     |██████▎                         | 296kB 10.9MB/s eta 0:00:01\r\u001b[K     |██████▌                         | 307kB 10.9MB/s eta 0:00:01\r\u001b[K     |██████▊                         | 317kB 10.9MB/s eta 0:00:01\r\u001b[K     |███████                         | 327kB 10.9MB/s eta 0:00:01\r\u001b[K     |███████▏                        | 337kB 10.9MB/s eta 0:00:01\r\u001b[K     |███████▍                        | 348kB 10.9MB/s eta 0:00:01\r\u001b[K     |███████▋                        | 358kB 10.9MB/s eta 0:00:01\r\u001b[K     |███████▉                        | 368kB 10.9MB/s eta 0:00:01\r\u001b[K     |████████                        | 378kB 10.9MB/s eta 0:00:01\r\u001b[K     |████████▎                       | 389kB 10.9MB/s eta 0:00:01\r\u001b[K     |████████▌                       | 399kB 10.9MB/s eta 0:00:01\r\u001b[K     |████████▋                       | 409kB 10.9MB/s eta 0:00:01\r\u001b[K     |████████▉                       | 419kB 10.9MB/s eta 0:00:01\r\u001b[K     |█████████                       | 430kB 10.9MB/s eta 0:00:01\r\u001b[K     |█████████▎                      | 440kB 10.9MB/s eta 0:00:01\r\u001b[K     |█████████▌                      | 450kB 10.9MB/s eta 0:00:01\r\u001b[K     |█████████▊                      | 460kB 10.9MB/s eta 0:00:01\r\u001b[K     |██████████                      | 471kB 10.9MB/s eta 0:00:01\r\u001b[K     |██████████▏                     | 481kB 10.9MB/s eta 0:00:01\r\u001b[K     |██████████▍                     | 491kB 10.9MB/s eta 0:00:01\r\u001b[K     |██████████▋                     | 501kB 10.9MB/s eta 0:00:01\r\u001b[K     |██████████▉                     | 512kB 10.9MB/s eta 0:00:01\r\u001b[K     |███████████                     | 522kB 10.9MB/s eta 0:00:01\r\u001b[K     |███████████▎                    | 532kB 10.9MB/s eta 0:00:01\r\u001b[K     |███████████▌                    | 542kB 10.9MB/s eta 0:00:01\r\u001b[K     |███████████▊                    | 552kB 10.9MB/s eta 0:00:01\r\u001b[K     |████████████                    | 563kB 10.9MB/s eta 0:00:01\r\u001b[K     |████████████▏                   | 573kB 10.9MB/s eta 0:00:01\r\u001b[K     |████████████▍                   | 583kB 10.9MB/s eta 0:00:01\r\u001b[K     |████████████▋                   | 593kB 10.9MB/s eta 0:00:01\r\u001b[K     |████████████▉                   | 604kB 10.9MB/s eta 0:00:01\r\u001b[K     |█████████████                   | 614kB 10.9MB/s eta 0:00:01\r\u001b[K     |█████████████▏                  | 624kB 10.9MB/s eta 0:00:01\r\u001b[K     |█████████████▍                  | 634kB 10.9MB/s eta 0:00:01\r\u001b[K     |█████████████▋                  | 645kB 10.9MB/s eta 0:00:01\r\u001b[K     |█████████████▉                  | 655kB 10.9MB/s eta 0:00:01\r\u001b[K     |██████████████                  | 665kB 10.9MB/s eta 0:00:01\r\u001b[K     |██████████████▎                 | 675kB 10.9MB/s eta 0:00:01\r\u001b[K     |██████████████▌                 | 686kB 10.9MB/s eta 0:00:01\r\u001b[K     |██████████████▊                 | 696kB 10.9MB/s eta 0:00:01\r\u001b[K     |███████████████                 | 706kB 10.9MB/s eta 0:00:01\r\u001b[K     |███████████████▏                | 716kB 10.9MB/s eta 0:00:01\r\u001b[K     |███████████████▍                | 727kB 10.9MB/s eta 0:00:01\r\u001b[K     |███████████████▋                | 737kB 10.9MB/s eta 0:00:01\r\u001b[K     |███████████████▉                | 747kB 10.9MB/s eta 0:00:01\r\u001b[K     |████████████████                | 757kB 10.9MB/s eta 0:00:01\r\u001b[K     |████████████████▎               | 768kB 10.9MB/s eta 0:00:01\r\u001b[K     |████████████████▌               | 778kB 10.9MB/s eta 0:00:01\r\u001b[K     |████████████████▊               | 788kB 10.9MB/s eta 0:00:01\r\u001b[K     |█████████████████               | 798kB 10.9MB/s eta 0:00:01\r\u001b[K     |█████████████████               | 808kB 10.9MB/s eta 0:00:01\r\u001b[K     |█████████████████▎              | 819kB 10.9MB/s eta 0:00:01\r\u001b[K     |█████████████████▌              | 829kB 10.9MB/s eta 0:00:01\r\u001b[K     |█████████████████▊              | 839kB 10.9MB/s eta 0:00:01\r\u001b[K     |██████████████████              | 849kB 10.9MB/s eta 0:00:01\r\u001b[K     |██████████████████▏             | 860kB 10.9MB/s eta 0:00:01\r\u001b[K     |██████████████████▍             | 870kB 10.9MB/s eta 0:00:01\r\u001b[K     |██████████████████▋             | 880kB 10.9MB/s eta 0:00:01\r\u001b[K     |██████████████████▉             | 890kB 10.9MB/s eta 0:00:01\r\u001b[K     |███████████████████             | 901kB 10.9MB/s eta 0:00:01\r\u001b[K     |███████████████████▎            | 911kB 10.9MB/s eta 0:00:01\r\u001b[K     |███████████████████▌            | 921kB 10.9MB/s eta 0:00:01\r\u001b[K     |███████████████████▊            | 931kB 10.9MB/s eta 0:00:01\r\u001b[K     |████████████████████            | 942kB 10.9MB/s eta 0:00:01\r\u001b[K     |████████████████████▏           | 952kB 10.9MB/s eta 0:00:01\r\u001b[K     |████████████████████▍           | 962kB 10.9MB/s eta 0:00:01\r\u001b[K     |████████████████████▋           | 972kB 10.9MB/s eta 0:00:01\r\u001b[K     |████████████████████▉           | 983kB 10.9MB/s eta 0:00:01\r\u001b[K     |█████████████████████           | 993kB 10.9MB/s eta 0:00:01\r\u001b[K     |█████████████████████▎          | 1.0MB 10.9MB/s eta 0:00:01\r\u001b[K     |█████████████████████▍          | 1.0MB 10.9MB/s eta 0:00:01\r\u001b[K     |█████████████████████▋          | 1.0MB 10.9MB/s eta 0:00:01\r\u001b[K     |█████████████████████▉          | 1.0MB 10.9MB/s eta 0:00:01\r\u001b[K     |██████████████████████          | 1.0MB 10.9MB/s eta 0:00:01\r\u001b[K     |██████████████████████▎         | 1.1MB 10.9MB/s eta 0:00:01\r\u001b[K     |██████████████████████▌         | 1.1MB 10.9MB/s eta 0:00:01\r\u001b[K     |██████████████████████▊         | 1.1MB 10.9MB/s eta 0:00:01\r\u001b[K     |███████████████████████         | 1.1MB 10.9MB/s eta 0:00:01\r\u001b[K     |███████████████████████▏        | 1.1MB 10.9MB/s eta 0:00:01\r\u001b[K     |███████████████████████▍        | 1.1MB 10.9MB/s eta 0:00:01\r\u001b[K     |███████████████████████▋        | 1.1MB 10.9MB/s eta 0:00:01\r\u001b[K     |███████████████████████▉        | 1.1MB 10.9MB/s eta 0:00:01\r\u001b[K     |████████████████████████        | 1.1MB 10.9MB/s eta 0:00:01\r\u001b[K     |████████████████████████▎       | 1.1MB 10.9MB/s eta 0:00:01\r\u001b[K     |████████████████████████▌       | 1.2MB 10.9MB/s eta 0:00:01\r\u001b[K     |████████████████████████▊       | 1.2MB 10.9MB/s eta 0:00:01\r\u001b[K     |█████████████████████████       | 1.2MB 10.9MB/s eta 0:00:01\r\u001b[K     |█████████████████████████▏      | 1.2MB 10.9MB/s eta 0:00:01\r\u001b[K     |█████████████████████████▍      | 1.2MB 10.9MB/s eta 0:00:01\r\u001b[K     |█████████████████████████▋      | 1.2MB 10.9MB/s eta 0:00:01\r\u001b[K     |█████████████████████████▊      | 1.2MB 10.9MB/s eta 0:00:01\r\u001b[K     |██████████████████████████      | 1.2MB 10.9MB/s eta 0:00:01\r\u001b[K     |██████████████████████████▏     | 1.2MB 10.9MB/s eta 0:00:01\r\u001b[K     |██████████████████████████▍     | 1.2MB 10.9MB/s eta 0:00:01\r\u001b[K     |██████████████████████████▋     | 1.3MB 10.9MB/s eta 0:00:01\r\u001b[K     |██████████████████████████▉     | 1.3MB 10.9MB/s eta 0:00:01\r\u001b[K     |███████████████████████████     | 1.3MB 10.9MB/s eta 0:00:01\r\u001b[K     |███████████████████████████▎    | 1.3MB 10.9MB/s eta 0:00:01\r\u001b[K     |███████████████████████████▌    | 1.3MB 10.9MB/s eta 0:00:01\r\u001b[K     |███████████████████████████▊    | 1.3MB 10.9MB/s eta 0:00:01\r\u001b[K     |████████████████████████████    | 1.3MB 10.9MB/s eta 0:00:01\r\u001b[K     |████████████████████████████▏   | 1.3MB 10.9MB/s eta 0:00:01\r\u001b[K     |████████████████████████████▍   | 1.3MB 10.9MB/s eta 0:00:01\r\u001b[K     |████████████████████████████▋   | 1.4MB 10.9MB/s eta 0:00:01\r\u001b[K     |████████████████████████████▉   | 1.4MB 10.9MB/s eta 0:00:01\r\u001b[K     |█████████████████████████████   | 1.4MB 10.9MB/s eta 0:00:01\r\u001b[K     |█████████████████████████████▎  | 1.4MB 10.9MB/s eta 0:00:01\r\u001b[K     |█████████████████████████████▌  | 1.4MB 10.9MB/s eta 0:00:01\r\u001b[K     |█████████████████████████████▊  | 1.4MB 10.9MB/s eta 0:00:01\r\u001b[K     |█████████████████████████████▉  | 1.4MB 10.9MB/s eta 0:00:01\r\u001b[K     |██████████████████████████████  | 1.4MB 10.9MB/s eta 0:00:01\r\u001b[K     |██████████████████████████████▎ | 1.4MB 10.9MB/s eta 0:00:01\r\u001b[K     |██████████████████████████████▌ | 1.4MB 10.9MB/s eta 0:00:01\r\u001b[K     |██████████████████████████████▊ | 1.5MB 10.9MB/s eta 0:00:01\r\u001b[K     |███████████████████████████████ | 1.5MB 10.9MB/s eta 0:00:01\r\u001b[K     |███████████████████████████████▏| 1.5MB 10.9MB/s eta 0:00:01\r\u001b[K     |███████████████████████████████▍| 1.5MB 10.9MB/s eta 0:00:01\r\u001b[K     |███████████████████████████████▋| 1.5MB 10.9MB/s eta 0:00:01\r\u001b[K     |███████████████████████████████▉| 1.5MB 10.9MB/s eta 0:00:01\r\u001b[K     |████████████████████████████████| 1.5MB 10.9MB/s \n",
            "\u001b[?25hRequirement already satisfied: filelock in /usr/local/lib/python3.6/dist-packages (from transformers) (3.0.12)\n",
            "Requirement already satisfied: packaging in /usr/local/lib/python3.6/dist-packages (from transformers) (20.8)\n",
            "Collecting tokenizers==0.9.4\n",
            "\u001b[?25l  Downloading https://files.pythonhosted.org/packages/0f/1c/e789a8b12e28be5bc1ce2156cf87cb522b379be9cadc7ad8091a4cc107c4/tokenizers-0.9.4-cp36-cp36m-manylinux2010_x86_64.whl (2.9MB)\n",
            "\u001b[K     |████████████████████████████████| 2.9MB 45.2MB/s \n",
            "\u001b[?25hRequirement already satisfied: tqdm>=4.27 in /usr/local/lib/python3.6/dist-packages (from transformers) (4.41.1)\n",
            "Requirement already satisfied: dataclasses; python_version < \"3.7\" in /usr/local/lib/python3.6/dist-packages (from transformers) (0.8)\n",
            "Requirement already satisfied: regex!=2019.12.17 in /usr/local/lib/python3.6/dist-packages (from transformers) (2019.12.20)\n",
            "Requirement already satisfied: numpy in /usr/local/lib/python3.6/dist-packages (from transformers) (1.19.4)\n",
            "Requirement already satisfied: requests in /usr/local/lib/python3.6/dist-packages (from transformers) (2.23.0)\n",
            "Collecting sacremoses\n",
            "\u001b[?25l  Downloading https://files.pythonhosted.org/packages/7d/34/09d19aff26edcc8eb2a01bed8e98f13a1537005d31e95233fd48216eed10/sacremoses-0.0.43.tar.gz (883kB)\n",
            "\u001b[K     |████████████████████████████████| 890kB 61.7MB/s \n",
            "\u001b[?25hRequirement already satisfied: pyparsing>=2.0.2 in /usr/local/lib/python3.6/dist-packages (from packaging->transformers) (2.4.7)\n",
            "Requirement already satisfied: certifi>=2017.4.17 in /usr/local/lib/python3.6/dist-packages (from requests->transformers) (2020.12.5)\n",
            "Requirement already satisfied: chardet<4,>=3.0.2 in /usr/local/lib/python3.6/dist-packages (from requests->transformers) (3.0.4)\n",
            "Requirement already satisfied: idna<3,>=2.5 in /usr/local/lib/python3.6/dist-packages (from requests->transformers) (2.10)\n",
            "Requirement already satisfied: urllib3!=1.25.0,!=1.25.1,<1.26,>=1.21.1 in /usr/local/lib/python3.6/dist-packages (from requests->transformers) (1.24.3)\n",
            "Requirement already satisfied: six in /usr/local/lib/python3.6/dist-packages (from sacremoses->transformers) (1.15.0)\n",
            "Requirement already satisfied: click in /usr/local/lib/python3.6/dist-packages (from sacremoses->transformers) (7.1.2)\n",
            "Requirement already satisfied: joblib in /usr/local/lib/python3.6/dist-packages (from sacremoses->transformers) (1.0.0)\n",
            "Building wheels for collected packages: sacremoses\n",
            "  Building wheel for sacremoses (setup.py) ... \u001b[?25l\u001b[?25hdone\n",
            "  Created wheel for sacremoses: filename=sacremoses-0.0.43-cp36-none-any.whl size=893261 sha256=f5e91a18c65286472ae8c9b10d5298dfbbd1a2ed17963ff19b8cf8cc90ffd240\n",
            "  Stored in directory: /root/.cache/pip/wheels/29/3c/fd/7ce5c3f0666dab31a50123635e6fb5e19ceb42ce38d4e58f45\n",
            "Successfully built sacremoses\n",
            "Installing collected packages: tokenizers, sacremoses, transformers\n",
            "Successfully installed sacremoses-0.0.43 tokenizers-0.9.4 transformers-4.1.1\n"
          ],
          "name": "stdout"
        }
      ]
    },
    {
      "cell_type": "code",
      "metadata": {
        "id": "b2CVY64HwW5b",
        "outputId": "eab94273-37f1-43cb-f717-5bdb9cd4dbbf",
        "colab": {
          "base_uri": "https://localhost:8080/"
        }
      },
      "source": [
        "pip install sentencepiece"
      ],
      "execution_count": 2,
      "outputs": [
        {
          "output_type": "stream",
          "text": [
            "Collecting sentencepiece\n",
            "\u001b[?25l  Downloading https://files.pythonhosted.org/packages/e5/2d/6d4ca4bef9a67070fa1cac508606328329152b1df10bdf31fb6e4e727894/sentencepiece-0.1.94-cp36-cp36m-manylinux2014_x86_64.whl (1.1MB)\n",
            "\r\u001b[K     |▎                               | 10kB 18.1MB/s eta 0:00:01\r\u001b[K     |▋                               | 20kB 23.3MB/s eta 0:00:01\r\u001b[K     |▉                               | 30kB 16.1MB/s eta 0:00:01\r\u001b[K     |█▏                              | 40kB 14.5MB/s eta 0:00:01\r\u001b[K     |█▌                              | 51kB 10.5MB/s eta 0:00:01\r\u001b[K     |█▊                              | 61kB 10.0MB/s eta 0:00:01\r\u001b[K     |██                              | 71kB 9.0MB/s eta 0:00:01\r\u001b[K     |██▍                             | 81kB 8.8MB/s eta 0:00:01\r\u001b[K     |██▋                             | 92kB 8.9MB/s eta 0:00:01\r\u001b[K     |███                             | 102kB 8.8MB/s eta 0:00:01\r\u001b[K     |███▎                            | 112kB 8.8MB/s eta 0:00:01\r\u001b[K     |███▌                            | 122kB 8.8MB/s eta 0:00:01\r\u001b[K     |███▉                            | 133kB 8.8MB/s eta 0:00:01\r\u001b[K     |████▏                           | 143kB 8.8MB/s eta 0:00:01\r\u001b[K     |████▍                           | 153kB 8.8MB/s eta 0:00:01\r\u001b[K     |████▊                           | 163kB 8.8MB/s eta 0:00:01\r\u001b[K     |█████                           | 174kB 8.8MB/s eta 0:00:01\r\u001b[K     |█████▎                          | 184kB 8.8MB/s eta 0:00:01\r\u001b[K     |█████▋                          | 194kB 8.8MB/s eta 0:00:01\r\u001b[K     |█████▉                          | 204kB 8.8MB/s eta 0:00:01\r\u001b[K     |██████▏                         | 215kB 8.8MB/s eta 0:00:01\r\u001b[K     |██████▌                         | 225kB 8.8MB/s eta 0:00:01\r\u001b[K     |██████▊                         | 235kB 8.8MB/s eta 0:00:01\r\u001b[K     |███████                         | 245kB 8.8MB/s eta 0:00:01\r\u001b[K     |███████▍                        | 256kB 8.8MB/s eta 0:00:01\r\u001b[K     |███████▋                        | 266kB 8.8MB/s eta 0:00:01\r\u001b[K     |████████                        | 276kB 8.8MB/s eta 0:00:01\r\u001b[K     |████████▎                       | 286kB 8.8MB/s eta 0:00:01\r\u001b[K     |████████▌                       | 296kB 8.8MB/s eta 0:00:01\r\u001b[K     |████████▉                       | 307kB 8.8MB/s eta 0:00:01\r\u001b[K     |█████████                       | 317kB 8.8MB/s eta 0:00:01\r\u001b[K     |█████████▍                      | 327kB 8.8MB/s eta 0:00:01\r\u001b[K     |█████████▊                      | 337kB 8.8MB/s eta 0:00:01\r\u001b[K     |██████████                      | 348kB 8.8MB/s eta 0:00:01\r\u001b[K     |██████████▎                     | 358kB 8.8MB/s eta 0:00:01\r\u001b[K     |██████████▋                     | 368kB 8.8MB/s eta 0:00:01\r\u001b[K     |██████████▉                     | 378kB 8.8MB/s eta 0:00:01\r\u001b[K     |███████████▏                    | 389kB 8.8MB/s eta 0:00:01\r\u001b[K     |███████████▌                    | 399kB 8.8MB/s eta 0:00:01\r\u001b[K     |███████████▊                    | 409kB 8.8MB/s eta 0:00:01\r\u001b[K     |████████████                    | 419kB 8.8MB/s eta 0:00:01\r\u001b[K     |████████████▍                   | 430kB 8.8MB/s eta 0:00:01\r\u001b[K     |████████████▋                   | 440kB 8.8MB/s eta 0:00:01\r\u001b[K     |█████████████                   | 450kB 8.8MB/s eta 0:00:01\r\u001b[K     |█████████████▎                  | 460kB 8.8MB/s eta 0:00:01\r\u001b[K     |█████████████▌                  | 471kB 8.8MB/s eta 0:00:01\r\u001b[K     |█████████████▉                  | 481kB 8.8MB/s eta 0:00:01\r\u001b[K     |██████████████                  | 491kB 8.8MB/s eta 0:00:01\r\u001b[K     |██████████████▍                 | 501kB 8.8MB/s eta 0:00:01\r\u001b[K     |██████████████▊                 | 512kB 8.8MB/s eta 0:00:01\r\u001b[K     |███████████████                 | 522kB 8.8MB/s eta 0:00:01\r\u001b[K     |███████████████▎                | 532kB 8.8MB/s eta 0:00:01\r\u001b[K     |███████████████▋                | 542kB 8.8MB/s eta 0:00:01\r\u001b[K     |███████████████▉                | 552kB 8.8MB/s eta 0:00:01\r\u001b[K     |████████████████▏               | 563kB 8.8MB/s eta 0:00:01\r\u001b[K     |████████████████▌               | 573kB 8.8MB/s eta 0:00:01\r\u001b[K     |████████████████▊               | 583kB 8.8MB/s eta 0:00:01\r\u001b[K     |█████████████████               | 593kB 8.8MB/s eta 0:00:01\r\u001b[K     |█████████████████▍              | 604kB 8.8MB/s eta 0:00:01\r\u001b[K     |█████████████████▋              | 614kB 8.8MB/s eta 0:00:01\r\u001b[K     |██████████████████              | 624kB 8.8MB/s eta 0:00:01\r\u001b[K     |██████████████████▏             | 634kB 8.8MB/s eta 0:00:01\r\u001b[K     |██████████████████▌             | 645kB 8.8MB/s eta 0:00:01\r\u001b[K     |██████████████████▉             | 655kB 8.8MB/s eta 0:00:01\r\u001b[K     |███████████████████             | 665kB 8.8MB/s eta 0:00:01\r\u001b[K     |███████████████████▍            | 675kB 8.8MB/s eta 0:00:01\r\u001b[K     |███████████████████▊            | 686kB 8.8MB/s eta 0:00:01\r\u001b[K     |████████████████████            | 696kB 8.8MB/s eta 0:00:01\r\u001b[K     |████████████████████▎           | 706kB 8.8MB/s eta 0:00:01\r\u001b[K     |████████████████████▋           | 716kB 8.8MB/s eta 0:00:01\r\u001b[K     |████████████████████▉           | 727kB 8.8MB/s eta 0:00:01\r\u001b[K     |█████████████████████▏          | 737kB 8.8MB/s eta 0:00:01\r\u001b[K     |█████████████████████▌          | 747kB 8.8MB/s eta 0:00:01\r\u001b[K     |█████████████████████▊          | 757kB 8.8MB/s eta 0:00:01\r\u001b[K     |██████████████████████          | 768kB 8.8MB/s eta 0:00:01\r\u001b[K     |██████████████████████▎         | 778kB 8.8MB/s eta 0:00:01\r\u001b[K     |██████████████████████▋         | 788kB 8.8MB/s eta 0:00:01\r\u001b[K     |███████████████████████         | 798kB 8.8MB/s eta 0:00:01\r\u001b[K     |███████████████████████▏        | 808kB 8.8MB/s eta 0:00:01\r\u001b[K     |███████████████████████▌        | 819kB 8.8MB/s eta 0:00:01\r\u001b[K     |███████████████████████▉        | 829kB 8.8MB/s eta 0:00:01\r\u001b[K     |████████████████████████        | 839kB 8.8MB/s eta 0:00:01\r\u001b[K     |████████████████████████▍       | 849kB 8.8MB/s eta 0:00:01\r\u001b[K     |████████████████████████▊       | 860kB 8.8MB/s eta 0:00:01\r\u001b[K     |█████████████████████████       | 870kB 8.8MB/s eta 0:00:01\r\u001b[K     |█████████████████████████▎      | 880kB 8.8MB/s eta 0:00:01\r\u001b[K     |█████████████████████████▋      | 890kB 8.8MB/s eta 0:00:01\r\u001b[K     |█████████████████████████▉      | 901kB 8.8MB/s eta 0:00:01\r\u001b[K     |██████████████████████████▏     | 911kB 8.8MB/s eta 0:00:01\r\u001b[K     |██████████████████████████▌     | 921kB 8.8MB/s eta 0:00:01\r\u001b[K     |██████████████████████████▊     | 931kB 8.8MB/s eta 0:00:01\r\u001b[K     |███████████████████████████     | 942kB 8.8MB/s eta 0:00:01\r\u001b[K     |███████████████████████████▎    | 952kB 8.8MB/s eta 0:00:01\r\u001b[K     |███████████████████████████▋    | 962kB 8.8MB/s eta 0:00:01\r\u001b[K     |████████████████████████████    | 972kB 8.8MB/s eta 0:00:01\r\u001b[K     |████████████████████████████▏   | 983kB 8.8MB/s eta 0:00:01\r\u001b[K     |████████████████████████████▌   | 993kB 8.8MB/s eta 0:00:01\r\u001b[K     |████████████████████████████▉   | 1.0MB 8.8MB/s eta 0:00:01\r\u001b[K     |█████████████████████████████   | 1.0MB 8.8MB/s eta 0:00:01\r\u001b[K     |█████████████████████████████▍  | 1.0MB 8.8MB/s eta 0:00:01\r\u001b[K     |█████████████████████████████▊  | 1.0MB 8.8MB/s eta 0:00:01\r\u001b[K     |██████████████████████████████  | 1.0MB 8.8MB/s eta 0:00:01\r\u001b[K     |██████████████████████████████▎ | 1.1MB 8.8MB/s eta 0:00:01\r\u001b[K     |██████████████████████████████▋ | 1.1MB 8.8MB/s eta 0:00:01\r\u001b[K     |██████████████████████████████▉ | 1.1MB 8.8MB/s eta 0:00:01\r\u001b[K     |███████████████████████████████▏| 1.1MB 8.8MB/s eta 0:00:01\r\u001b[K     |███████████████████████████████▍| 1.1MB 8.8MB/s eta 0:00:01\r\u001b[K     |███████████████████████████████▊| 1.1MB 8.8MB/s eta 0:00:01\r\u001b[K     |████████████████████████████████| 1.1MB 8.8MB/s \n",
            "\u001b[?25hInstalling collected packages: sentencepiece\n",
            "Successfully installed sentencepiece-0.1.94\n"
          ],
          "name": "stdout"
        }
      ]
    },
    {
      "cell_type": "markdown",
      "metadata": {
        "id": "RDha4z10Rgd4"
      },
      "source": [
        "Entailnment\r\n"
      ]
    },
    {
      "cell_type": "code",
      "metadata": {
        "id": "rBvpjJWdQ7df",
        "outputId": "6d1711f5-62ec-43b8-afb4-1c985d9b8c85",
        "colab": {
          "base_uri": "https://localhost:8080/"
        }
      },
      "source": [
        "from transformers import AutoTokenizer, AutoModelForSequenceClassification\n",
        "import torch\n",
        "\n",
        "max_length = 256\n",
        "\n",
        "premise = \"The Clinton followers kept to the higher ground in the discussion.\"\n",
        "hypothesis = \"The Clinton surrogates also held the high ground in the context war.\"\n",
        "\n",
        "hg_model_hub_name = \"ynie/roberta-large-snli_mnli_fever_anli_R1_R2_R3-nli\"\n",
        "#hg_model_hub_name = \"ynie/albert-xxlarge-v2-snli_mnli_fever_anli_R1_R2_R3-nli\"\n",
        "# hg_model_hub_name = \"ynie/bart-large-snli_mnli_fever_anli_R1_R2_R3-nli\"\n",
        "#hg_model_hub_name = \"ynie/electra-large-discriminator-snli_mnli_fever_anli_R1_R2_R3-nli\"\n",
        "# hg_model_hub_name = \"ynie/xlnet-large-cased-snli_mnli_fever_anli_R1_R2_R3-nli\"\n",
        "\n",
        "tokenizer = AutoTokenizer.from_pretrained(hg_model_hub_name)\n",
        "model = AutoModelForSequenceClassification.from_pretrained(hg_model_hub_name)\n",
        "\n",
        "\n",
        "tokenized_input_seq_pair = tokenizer.encode_plus(premise, hypothesis,\n",
        "                                                     max_length=max_length,\n",
        "                                                     return_token_type_ids=True, truncation=True)\n",
        "input_ids = torch.Tensor(tokenized_input_seq_pair['input_ids']).long().unsqueeze(0)\n",
        "    # remember bart doesn't have 'token_type_ids', remove the line below if you are using bart.\n",
        "token_type_ids = torch.Tensor(tokenized_input_seq_pair['token_type_ids']).long().unsqueeze(0)\n",
        "attention_mask = torch.Tensor(tokenized_input_seq_pair['attention_mask']).long().unsqueeze(0)\n",
        "\n",
        "outputs = model(input_ids,\n",
        "                    attention_mask=attention_mask,\n",
        "                    token_type_ids=token_type_ids,\n",
        "                    labels=None)\n",
        "    # Note:\n",
        "    # \"id2label\": {\n",
        "    #     \"0\": \"entailment\",\n",
        "    #     \"1\": \"neutral\",\n",
        "    #     \"2\": \"contradiction\"\n",
        "    # },\n",
        "\n",
        "predicted_probability = torch.softmax(outputs[0], dim=1)[0].tolist()  # batch_size only one\n",
        "\n",
        "print(\"Premise:\", premise)\n",
        "print(\"Hypothesis:\", hypothesis)\n",
        "print(\"Entailment:\", predicted_probability[0])\n",
        "print(\"Neutral:\", predicted_probability[1])\n",
        "print(\"Contradiction:\", predicted_probability[2])\n",
        "    "
      ],
      "execution_count": 9,
      "outputs": [
        {
          "output_type": "stream",
          "text": [
            "Some weights of the model checkpoint at ynie/roberta-large-snli_mnli_fever_anli_R1_R2_R3-nli were not used when initializing RobertaForSequenceClassification: ['roberta.pooler.dense.weight', 'roberta.pooler.dense.bias']\n",
            "- This IS expected if you are initializing RobertaForSequenceClassification from the checkpoint of a model trained on another task or with another architecture (e.g. initializing a BertForSequenceClassification model from a BertForPreTraining model).\n",
            "- This IS NOT expected if you are initializing RobertaForSequenceClassification from the checkpoint of a model that you expect to be exactly identical (initializing a BertForSequenceClassification model from a BertForSequenceClassification model).\n"
          ],
          "name": "stderr"
        },
        {
          "output_type": "stream",
          "text": [
            "Premise: The Clinton followers kept to the higher ground in the discussion.\n",
            "Hypothesis: The Clinton surrogates also held the high ground in the context war.\n",
            "Entailment: 0.13277667760849\n",
            "Neutral: 0.8394918441772461\n",
            "Contradiction: 0.027731474488973618\n"
          ],
          "name": "stdout"
        }
      ]
    },
    {
      "cell_type": "markdown",
      "metadata": {
        "id": "fueeaOpGuWUP"
      },
      "source": [
        "Coreferencing"
      ]
    },
    {
      "cell_type": "code",
      "metadata": {
        "id": "4JgmQDhMQ7dh",
        "outputId": "637358aa-c717-4bee-9372-f29d497a8167",
        "colab": {
          "base_uri": "https://localhost:8080/"
        }
      },
      "source": [
        "\r\n",
        "!git clone https://github.com/huggingface/neuralcoref.git\r\n",
        "!pip install -U spacy\r\n",
        "!python -m spacy download en\r\n",
        "\r\n",
        "%cd neuralcoref\r\n",
        "\r\n",
        "!pip install -r requirements.txt\r\n",
        "!pip install -e .\r\n",
        "\r\n",
        "\r\n",
        "import neuralcoref\r\n",
        "import spacy\r\n",
        "\r\n",
        "nlp = spacy.load('en')\r\n",
        "neuralcoref.add_to_pipe(nlp)\r\n",
        "\r\n",
        "doc1 = nlp('My sister has a dog. She loves him.')\r\n",
        "print(doc1._.coref_clusters)"
      ],
      "execution_count": 2,
      "outputs": [
        {
          "output_type": "stream",
          "text": [
            "[Errno 2] No such file or directory: 'temp'\n",
            "/content\n",
            "Cloning into 'neuralcoref'...\n",
            "remote: Enumerating objects: 10, done.\u001b[K\n",
            "remote: Counting objects: 100% (10/10), done.\u001b[K\n",
            "remote: Compressing objects: 100% (8/8), done.\u001b[K\n",
            "remote: Total 758 (delta 2), reused 3 (delta 1), pack-reused 748\u001b[K\n",
            "Receiving objects: 100% (758/758), 67.83 MiB | 33.58 MiB/s, done.\n",
            "Resolving deltas: 100% (399/399), done.\n",
            "Collecting spacy\n",
            "\u001b[?25l  Downloading https://files.pythonhosted.org/packages/e5/bf/ca7bb25edd21f1cf9d498d0023808279672a664a70585e1962617ca2740c/spacy-2.3.5-cp36-cp36m-manylinux2014_x86_64.whl (10.4MB)\n",
            "\u001b[K     |████████████████████████████████| 10.4MB 4.1MB/s \n",
            "\u001b[?25hRequirement already satisfied, skipping upgrade: preshed<3.1.0,>=3.0.2 in /usr/local/lib/python3.6/dist-packages (from spacy) (3.0.5)\n",
            "Requirement already satisfied, skipping upgrade: setuptools in /usr/local/lib/python3.6/dist-packages (from spacy) (51.0.0)\n",
            "Requirement already satisfied, skipping upgrade: plac<1.2.0,>=0.9.6 in /usr/local/lib/python3.6/dist-packages (from spacy) (1.1.3)\n",
            "Requirement already satisfied, skipping upgrade: murmurhash<1.1.0,>=0.28.0 in /usr/local/lib/python3.6/dist-packages (from spacy) (1.0.5)\n",
            "Requirement already satisfied, skipping upgrade: tqdm<5.0.0,>=4.38.0 in /usr/local/lib/python3.6/dist-packages (from spacy) (4.41.1)\n",
            "Requirement already satisfied, skipping upgrade: cymem<2.1.0,>=2.0.2 in /usr/local/lib/python3.6/dist-packages (from spacy) (2.0.5)\n",
            "Requirement already satisfied, skipping upgrade: wasabi<1.1.0,>=0.4.0 in /usr/local/lib/python3.6/dist-packages (from spacy) (0.8.0)\n",
            "Collecting thinc<7.5.0,>=7.4.1\n",
            "\u001b[?25l  Downloading https://files.pythonhosted.org/packages/c0/1a/c3e4ab982214c63d743fad57c45c5e68ee49e4ea4384d27b28595a26ad26/thinc-7.4.5-cp36-cp36m-manylinux2014_x86_64.whl (1.1MB)\n",
            "\u001b[K     |████████████████████████████████| 1.1MB 38.1MB/s \n",
            "\u001b[?25hRequirement already satisfied, skipping upgrade: numpy>=1.15.0 in /usr/local/lib/python3.6/dist-packages (from spacy) (1.19.4)\n",
            "Requirement already satisfied, skipping upgrade: blis<0.8.0,>=0.4.0 in /usr/local/lib/python3.6/dist-packages (from spacy) (0.4.1)\n",
            "Requirement already satisfied, skipping upgrade: requests<3.0.0,>=2.13.0 in /usr/local/lib/python3.6/dist-packages (from spacy) (2.23.0)\n",
            "Requirement already satisfied, skipping upgrade: catalogue<1.1.0,>=0.0.7 in /usr/local/lib/python3.6/dist-packages (from spacy) (1.0.0)\n",
            "Requirement already satisfied, skipping upgrade: srsly<1.1.0,>=1.0.2 in /usr/local/lib/python3.6/dist-packages (from spacy) (1.0.5)\n",
            "Requirement already satisfied, skipping upgrade: idna<3,>=2.5 in /usr/local/lib/python3.6/dist-packages (from requests<3.0.0,>=2.13.0->spacy) (2.10)\n",
            "Requirement already satisfied, skipping upgrade: chardet<4,>=3.0.2 in /usr/local/lib/python3.6/dist-packages (from requests<3.0.0,>=2.13.0->spacy) (3.0.4)\n",
            "Requirement already satisfied, skipping upgrade: certifi>=2017.4.17 in /usr/local/lib/python3.6/dist-packages (from requests<3.0.0,>=2.13.0->spacy) (2020.12.5)\n",
            "Requirement already satisfied, skipping upgrade: urllib3!=1.25.0,!=1.25.1,<1.26,>=1.21.1 in /usr/local/lib/python3.6/dist-packages (from requests<3.0.0,>=2.13.0->spacy) (1.24.3)\n",
            "Requirement already satisfied, skipping upgrade: importlib-metadata>=0.20; python_version < \"3.8\" in /usr/local/lib/python3.6/dist-packages (from catalogue<1.1.0,>=0.0.7->spacy) (3.3.0)\n",
            "Requirement already satisfied, skipping upgrade: typing-extensions>=3.6.4; python_version < \"3.8\" in /usr/local/lib/python3.6/dist-packages (from importlib-metadata>=0.20; python_version < \"3.8\"->catalogue<1.1.0,>=0.0.7->spacy) (3.7.4.3)\n",
            "Requirement already satisfied, skipping upgrade: zipp>=0.5 in /usr/local/lib/python3.6/dist-packages (from importlib-metadata>=0.20; python_version < \"3.8\"->catalogue<1.1.0,>=0.0.7->spacy) (3.4.0)\n",
            "Installing collected packages: thinc, spacy\n",
            "  Found existing installation: thinc 7.4.0\n",
            "    Uninstalling thinc-7.4.0:\n",
            "      Successfully uninstalled thinc-7.4.0\n",
            "  Found existing installation: spacy 2.2.4\n",
            "    Uninstalling spacy-2.2.4:\n",
            "      Successfully uninstalled spacy-2.2.4\n",
            "Successfully installed spacy-2.3.5 thinc-7.4.5\n",
            "Collecting en_core_web_sm==2.3.1\n",
            "\u001b[?25l  Downloading https://github.com/explosion/spacy-models/releases/download/en_core_web_sm-2.3.1/en_core_web_sm-2.3.1.tar.gz (12.0MB)\n",
            "\u001b[K     |████████████████████████████████| 12.1MB 2.6MB/s \n",
            "\u001b[?25hRequirement already satisfied: spacy<2.4.0,>=2.3.0 in /usr/local/lib/python3.6/dist-packages (from en_core_web_sm==2.3.1) (2.3.5)\n",
            "Requirement already satisfied: blis<0.8.0,>=0.4.0 in /usr/local/lib/python3.6/dist-packages (from spacy<2.4.0,>=2.3.0->en_core_web_sm==2.3.1) (0.4.1)\n",
            "Requirement already satisfied: tqdm<5.0.0,>=4.38.0 in /usr/local/lib/python3.6/dist-packages (from spacy<2.4.0,>=2.3.0->en_core_web_sm==2.3.1) (4.41.1)\n",
            "Requirement already satisfied: wasabi<1.1.0,>=0.4.0 in /usr/local/lib/python3.6/dist-packages (from spacy<2.4.0,>=2.3.0->en_core_web_sm==2.3.1) (0.8.0)\n",
            "Requirement already satisfied: srsly<1.1.0,>=1.0.2 in /usr/local/lib/python3.6/dist-packages (from spacy<2.4.0,>=2.3.0->en_core_web_sm==2.3.1) (1.0.5)\n",
            "Requirement already satisfied: murmurhash<1.1.0,>=0.28.0 in /usr/local/lib/python3.6/dist-packages (from spacy<2.4.0,>=2.3.0->en_core_web_sm==2.3.1) (1.0.5)\n",
            "Requirement already satisfied: setuptools in /usr/local/lib/python3.6/dist-packages (from spacy<2.4.0,>=2.3.0->en_core_web_sm==2.3.1) (51.0.0)\n",
            "Requirement already satisfied: catalogue<1.1.0,>=0.0.7 in /usr/local/lib/python3.6/dist-packages (from spacy<2.4.0,>=2.3.0->en_core_web_sm==2.3.1) (1.0.0)\n",
            "Requirement already satisfied: preshed<3.1.0,>=3.0.2 in /usr/local/lib/python3.6/dist-packages (from spacy<2.4.0,>=2.3.0->en_core_web_sm==2.3.1) (3.0.5)\n",
            "Requirement already satisfied: cymem<2.1.0,>=2.0.2 in /usr/local/lib/python3.6/dist-packages (from spacy<2.4.0,>=2.3.0->en_core_web_sm==2.3.1) (2.0.5)\n",
            "Requirement already satisfied: requests<3.0.0,>=2.13.0 in /usr/local/lib/python3.6/dist-packages (from spacy<2.4.0,>=2.3.0->en_core_web_sm==2.3.1) (2.23.0)\n",
            "Requirement already satisfied: thinc<7.5.0,>=7.4.1 in /usr/local/lib/python3.6/dist-packages (from spacy<2.4.0,>=2.3.0->en_core_web_sm==2.3.1) (7.4.5)\n",
            "Requirement already satisfied: plac<1.2.0,>=0.9.6 in /usr/local/lib/python3.6/dist-packages (from spacy<2.4.0,>=2.3.0->en_core_web_sm==2.3.1) (1.1.3)\n",
            "Requirement already satisfied: numpy>=1.15.0 in /usr/local/lib/python3.6/dist-packages (from spacy<2.4.0,>=2.3.0->en_core_web_sm==2.3.1) (1.19.4)\n",
            "Requirement already satisfied: importlib-metadata>=0.20; python_version < \"3.8\" in /usr/local/lib/python3.6/dist-packages (from catalogue<1.1.0,>=0.0.7->spacy<2.4.0,>=2.3.0->en_core_web_sm==2.3.1) (3.3.0)\n",
            "Requirement already satisfied: idna<3,>=2.5 in /usr/local/lib/python3.6/dist-packages (from requests<3.0.0,>=2.13.0->spacy<2.4.0,>=2.3.0->en_core_web_sm==2.3.1) (2.10)\n",
            "Requirement already satisfied: chardet<4,>=3.0.2 in /usr/local/lib/python3.6/dist-packages (from requests<3.0.0,>=2.13.0->spacy<2.4.0,>=2.3.0->en_core_web_sm==2.3.1) (3.0.4)\n",
            "Requirement already satisfied: urllib3!=1.25.0,!=1.25.1,<1.26,>=1.21.1 in /usr/local/lib/python3.6/dist-packages (from requests<3.0.0,>=2.13.0->spacy<2.4.0,>=2.3.0->en_core_web_sm==2.3.1) (1.24.3)\n",
            "Requirement already satisfied: certifi>=2017.4.17 in /usr/local/lib/python3.6/dist-packages (from requests<3.0.0,>=2.13.0->spacy<2.4.0,>=2.3.0->en_core_web_sm==2.3.1) (2020.12.5)\n",
            "Requirement already satisfied: typing-extensions>=3.6.4; python_version < \"3.8\" in /usr/local/lib/python3.6/dist-packages (from importlib-metadata>=0.20; python_version < \"3.8\"->catalogue<1.1.0,>=0.0.7->spacy<2.4.0,>=2.3.0->en_core_web_sm==2.3.1) (3.7.4.3)\n",
            "Requirement already satisfied: zipp>=0.5 in /usr/local/lib/python3.6/dist-packages (from importlib-metadata>=0.20; python_version < \"3.8\"->catalogue<1.1.0,>=0.0.7->spacy<2.4.0,>=2.3.0->en_core_web_sm==2.3.1) (3.4.0)\n",
            "Building wheels for collected packages: en-core-web-sm\n",
            "  Building wheel for en-core-web-sm (setup.py) ... \u001b[?25l\u001b[?25hdone\n",
            "  Created wheel for en-core-web-sm: filename=en_core_web_sm-2.3.1-cp36-none-any.whl size=12047109 sha256=bbf0004f3b0fd9e70c3ebd83d922e3b7f3b4d76d47a9ad59e6aefb7d3b601a3d\n",
            "  Stored in directory: /tmp/pip-ephem-wheel-cache-2b042s8s/wheels/2b/3f/41/f0b92863355c3ba34bb32b37d8a0c662959da0058202094f46\n",
            "Successfully built en-core-web-sm\n",
            "Installing collected packages: en-core-web-sm\n",
            "  Found existing installation: en-core-web-sm 2.2.5\n",
            "    Uninstalling en-core-web-sm-2.2.5:\n",
            "      Successfully uninstalled en-core-web-sm-2.2.5\n",
            "Successfully installed en-core-web-sm-2.3.1\n",
            "\u001b[38;5;2m✔ Download and installation successful\u001b[0m\n",
            "You can now load the model via spacy.load('en_core_web_sm')\n",
            "\u001b[38;5;2m✔ Linking successful\u001b[0m\n",
            "/usr/local/lib/python3.6/dist-packages/en_core_web_sm -->\n",
            "/usr/local/lib/python3.6/dist-packages/spacy/data/en\n",
            "You can now load the model via spacy.load('en')\n",
            "/content/neuralcoref\n",
            "Requirement already satisfied: spacy<3.0.0,>=2.1.0 in /usr/local/lib/python3.6/dist-packages (from -r requirements.txt (line 1)) (2.3.5)\n",
            "Requirement already satisfied: cython>=0.25 in /usr/local/lib/python3.6/dist-packages (from -r requirements.txt (line 2)) (0.29.21)\n",
            "Requirement already satisfied: pytest in /usr/local/lib/python3.6/dist-packages (from -r requirements.txt (line 3)) (3.6.4)\n",
            "Requirement already satisfied: murmurhash<1.1.0,>=0.28.0 in /usr/local/lib/python3.6/dist-packages (from spacy<3.0.0,>=2.1.0->-r requirements.txt (line 1)) (1.0.5)\n",
            "Requirement already satisfied: blis<0.8.0,>=0.4.0 in /usr/local/lib/python3.6/dist-packages (from spacy<3.0.0,>=2.1.0->-r requirements.txt (line 1)) (0.4.1)\n",
            "Requirement already satisfied: numpy>=1.15.0 in /usr/local/lib/python3.6/dist-packages (from spacy<3.0.0,>=2.1.0->-r requirements.txt (line 1)) (1.19.4)\n",
            "Requirement already satisfied: requests<3.0.0,>=2.13.0 in /usr/local/lib/python3.6/dist-packages (from spacy<3.0.0,>=2.1.0->-r requirements.txt (line 1)) (2.23.0)\n",
            "Requirement already satisfied: preshed<3.1.0,>=3.0.2 in /usr/local/lib/python3.6/dist-packages (from spacy<3.0.0,>=2.1.0->-r requirements.txt (line 1)) (3.0.5)\n",
            "Requirement already satisfied: tqdm<5.0.0,>=4.38.0 in /usr/local/lib/python3.6/dist-packages (from spacy<3.0.0,>=2.1.0->-r requirements.txt (line 1)) (4.41.1)\n",
            "Requirement already satisfied: wasabi<1.1.0,>=0.4.0 in /usr/local/lib/python3.6/dist-packages (from spacy<3.0.0,>=2.1.0->-r requirements.txt (line 1)) (0.8.0)\n",
            "Requirement already satisfied: plac<1.2.0,>=0.9.6 in /usr/local/lib/python3.6/dist-packages (from spacy<3.0.0,>=2.1.0->-r requirements.txt (line 1)) (1.1.3)\n",
            "Requirement already satisfied: cymem<2.1.0,>=2.0.2 in /usr/local/lib/python3.6/dist-packages (from spacy<3.0.0,>=2.1.0->-r requirements.txt (line 1)) (2.0.5)\n",
            "Requirement already satisfied: srsly<1.1.0,>=1.0.2 in /usr/local/lib/python3.6/dist-packages (from spacy<3.0.0,>=2.1.0->-r requirements.txt (line 1)) (1.0.5)\n",
            "Requirement already satisfied: setuptools in /usr/local/lib/python3.6/dist-packages (from spacy<3.0.0,>=2.1.0->-r requirements.txt (line 1)) (51.0.0)\n",
            "Requirement already satisfied: thinc<7.5.0,>=7.4.1 in /usr/local/lib/python3.6/dist-packages (from spacy<3.0.0,>=2.1.0->-r requirements.txt (line 1)) (7.4.5)\n",
            "Requirement already satisfied: catalogue<1.1.0,>=0.0.7 in /usr/local/lib/python3.6/dist-packages (from spacy<3.0.0,>=2.1.0->-r requirements.txt (line 1)) (1.0.0)\n",
            "Requirement already satisfied: attrs>=17.4.0 in /usr/local/lib/python3.6/dist-packages (from pytest->-r requirements.txt (line 3)) (20.3.0)\n",
            "Requirement already satisfied: py>=1.5.0 in /usr/local/lib/python3.6/dist-packages (from pytest->-r requirements.txt (line 3)) (1.10.0)\n",
            "Requirement already satisfied: more-itertools>=4.0.0 in /usr/local/lib/python3.6/dist-packages (from pytest->-r requirements.txt (line 3)) (8.6.0)\n",
            "Requirement already satisfied: six>=1.10.0 in /usr/local/lib/python3.6/dist-packages (from pytest->-r requirements.txt (line 3)) (1.15.0)\n",
            "Requirement already satisfied: pluggy<0.8,>=0.5 in /usr/local/lib/python3.6/dist-packages (from pytest->-r requirements.txt (line 3)) (0.7.1)\n",
            "Requirement already satisfied: atomicwrites>=1.0 in /usr/local/lib/python3.6/dist-packages (from pytest->-r requirements.txt (line 3)) (1.4.0)\n",
            "Requirement already satisfied: certifi>=2017.4.17 in /usr/local/lib/python3.6/dist-packages (from requests<3.0.0,>=2.13.0->spacy<3.0.0,>=2.1.0->-r requirements.txt (line 1)) (2020.12.5)\n",
            "Requirement already satisfied: chardet<4,>=3.0.2 in /usr/local/lib/python3.6/dist-packages (from requests<3.0.0,>=2.13.0->spacy<3.0.0,>=2.1.0->-r requirements.txt (line 1)) (3.0.4)\n",
            "Requirement already satisfied: idna<3,>=2.5 in /usr/local/lib/python3.6/dist-packages (from requests<3.0.0,>=2.13.0->spacy<3.0.0,>=2.1.0->-r requirements.txt (line 1)) (2.10)\n",
            "Requirement already satisfied: urllib3!=1.25.0,!=1.25.1,<1.26,>=1.21.1 in /usr/local/lib/python3.6/dist-packages (from requests<3.0.0,>=2.13.0->spacy<3.0.0,>=2.1.0->-r requirements.txt (line 1)) (1.24.3)\n",
            "Requirement already satisfied: importlib-metadata>=0.20; python_version < \"3.8\" in /usr/local/lib/python3.6/dist-packages (from catalogue<1.1.0,>=0.0.7->spacy<3.0.0,>=2.1.0->-r requirements.txt (line 1)) (3.3.0)\n",
            "Requirement already satisfied: zipp>=0.5 in /usr/local/lib/python3.6/dist-packages (from importlib-metadata>=0.20; python_version < \"3.8\"->catalogue<1.1.0,>=0.0.7->spacy<3.0.0,>=2.1.0->-r requirements.txt (line 1)) (3.4.0)\n",
            "Requirement already satisfied: typing-extensions>=3.6.4; python_version < \"3.8\" in /usr/local/lib/python3.6/dist-packages (from importlib-metadata>=0.20; python_version < \"3.8\"->catalogue<1.1.0,>=0.0.7->spacy<3.0.0,>=2.1.0->-r requirements.txt (line 1)) (3.7.4.3)\n",
            "Obtaining file:///content/neuralcoref\n",
            "Requirement already satisfied: numpy>=1.15.0 in /usr/local/lib/python3.6/dist-packages (from neuralcoref==4.0) (1.19.4)\n",
            "Collecting boto3\n",
            "\u001b[?25l  Downloading https://files.pythonhosted.org/packages/b3/f4/f9ab9845a63cef64d42dea7ef09c593be5ec2b627d398ef7a0954ac0a8f7/boto3-1.16.49-py2.py3-none-any.whl (130kB)\n",
            "\u001b[K     |████████████████████████████████| 133kB 4.3MB/s \n",
            "\u001b[?25hRequirement already satisfied: requests<3.0.0,>=2.13.0 in /usr/local/lib/python3.6/dist-packages (from neuralcoref==4.0) (2.23.0)\n",
            "Requirement already satisfied: spacy>=2.1.0 in /usr/local/lib/python3.6/dist-packages (from neuralcoref==4.0) (2.3.5)\n",
            "Collecting botocore<1.20.0,>=1.19.49\n",
            "\u001b[?25l  Downloading https://files.pythonhosted.org/packages/15/b9/d4118f2befea084c9bc72aaa9cb10f1cef8311a534cfdc10e02715baa121/botocore-1.19.49-py2.py3-none-any.whl (7.2MB)\n",
            "\u001b[K     |████████████████████████████████| 7.2MB 5.2MB/s \n",
            "\u001b[?25hCollecting jmespath<1.0.0,>=0.7.1\n",
            "  Downloading https://files.pythonhosted.org/packages/07/cb/5f001272b6faeb23c1c9e0acc04d48eaaf5c862c17709d20e3469c6e0139/jmespath-0.10.0-py2.py3-none-any.whl\n",
            "Collecting s3transfer<0.4.0,>=0.3.0\n",
            "\u001b[?25l  Downloading https://files.pythonhosted.org/packages/69/79/e6afb3d8b0b4e96cefbdc690f741d7dd24547ff1f94240c997a26fa908d3/s3transfer-0.3.3-py2.py3-none-any.whl (69kB)\n",
            "\u001b[K     |████████████████████████████████| 71kB 8.6MB/s \n",
            "\u001b[?25hRequirement already satisfied: urllib3!=1.25.0,!=1.25.1,<1.26,>=1.21.1 in /usr/local/lib/python3.6/dist-packages (from requests<3.0.0,>=2.13.0->neuralcoref==4.0) (1.24.3)\n",
            "Requirement already satisfied: certifi>=2017.4.17 in /usr/local/lib/python3.6/dist-packages (from requests<3.0.0,>=2.13.0->neuralcoref==4.0) (2020.12.5)\n",
            "Requirement already satisfied: chardet<4,>=3.0.2 in /usr/local/lib/python3.6/dist-packages (from requests<3.0.0,>=2.13.0->neuralcoref==4.0) (3.0.4)\n",
            "Requirement already satisfied: idna<3,>=2.5 in /usr/local/lib/python3.6/dist-packages (from requests<3.0.0,>=2.13.0->neuralcoref==4.0) (2.10)\n",
            "Requirement already satisfied: srsly<1.1.0,>=1.0.2 in /usr/local/lib/python3.6/dist-packages (from spacy>=2.1.0->neuralcoref==4.0) (1.0.5)\n",
            "Requirement already satisfied: thinc<7.5.0,>=7.4.1 in /usr/local/lib/python3.6/dist-packages (from spacy>=2.1.0->neuralcoref==4.0) (7.4.5)\n",
            "Requirement already satisfied: setuptools in /usr/local/lib/python3.6/dist-packages (from spacy>=2.1.0->neuralcoref==4.0) (51.0.0)\n",
            "Requirement already satisfied: wasabi<1.1.0,>=0.4.0 in /usr/local/lib/python3.6/dist-packages (from spacy>=2.1.0->neuralcoref==4.0) (0.8.0)\n",
            "Requirement already satisfied: cymem<2.1.0,>=2.0.2 in /usr/local/lib/python3.6/dist-packages (from spacy>=2.1.0->neuralcoref==4.0) (2.0.5)\n",
            "Requirement already satisfied: plac<1.2.0,>=0.9.6 in /usr/local/lib/python3.6/dist-packages (from spacy>=2.1.0->neuralcoref==4.0) (1.1.3)\n",
            "Requirement already satisfied: tqdm<5.0.0,>=4.38.0 in /usr/local/lib/python3.6/dist-packages (from spacy>=2.1.0->neuralcoref==4.0) (4.41.1)\n",
            "Requirement already satisfied: murmurhash<1.1.0,>=0.28.0 in /usr/local/lib/python3.6/dist-packages (from spacy>=2.1.0->neuralcoref==4.0) (1.0.5)\n",
            "Requirement already satisfied: blis<0.8.0,>=0.4.0 in /usr/local/lib/python3.6/dist-packages (from spacy>=2.1.0->neuralcoref==4.0) (0.4.1)\n",
            "Requirement already satisfied: catalogue<1.1.0,>=0.0.7 in /usr/local/lib/python3.6/dist-packages (from spacy>=2.1.0->neuralcoref==4.0) (1.0.0)\n",
            "Requirement already satisfied: preshed<3.1.0,>=3.0.2 in /usr/local/lib/python3.6/dist-packages (from spacy>=2.1.0->neuralcoref==4.0) (3.0.5)\n",
            "Requirement already satisfied: python-dateutil<3.0.0,>=2.1 in /usr/local/lib/python3.6/dist-packages (from botocore<1.20.0,>=1.19.49->boto3->neuralcoref==4.0) (2.8.1)\n",
            "Requirement already satisfied: importlib-metadata>=0.20; python_version < \"3.8\" in /usr/local/lib/python3.6/dist-packages (from catalogue<1.1.0,>=0.0.7->spacy>=2.1.0->neuralcoref==4.0) (3.3.0)\n",
            "Requirement already satisfied: six>=1.5 in /usr/local/lib/python3.6/dist-packages (from python-dateutil<3.0.0,>=2.1->botocore<1.20.0,>=1.19.49->boto3->neuralcoref==4.0) (1.15.0)\n",
            "Requirement already satisfied: typing-extensions>=3.6.4; python_version < \"3.8\" in /usr/local/lib/python3.6/dist-packages (from importlib-metadata>=0.20; python_version < \"3.8\"->catalogue<1.1.0,>=0.0.7->spacy>=2.1.0->neuralcoref==4.0) (3.7.4.3)\n",
            "Requirement already satisfied: zipp>=0.5 in /usr/local/lib/python3.6/dist-packages (from importlib-metadata>=0.20; python_version < \"3.8\"->catalogue<1.1.0,>=0.0.7->spacy>=2.1.0->neuralcoref==4.0) (3.4.0)\n",
            "\u001b[31mERROR: botocore 1.19.49 has requirement urllib3<1.27,>=1.25.4; python_version != \"3.4\", but you'll have urllib3 1.24.3 which is incompatible.\u001b[0m\n",
            "Installing collected packages: jmespath, botocore, s3transfer, boto3, neuralcoref\n",
            "  Running setup.py develop for neuralcoref\n",
            "Successfully installed boto3-1.16.49 botocore-1.19.49 jmespath-0.10.0 neuralcoref s3transfer-0.3.3\n"
          ],
          "name": "stdout"
        },
        {
          "output_type": "stream",
          "text": [
            "/usr/lib/python3.6/importlib/_bootstrap.py:219: RuntimeWarning: spacy.morphology.Morphology size changed, may indicate binary incompatibility. Expected 104 from C header, got 112 from PyObject\n",
            "  return f(*args, **kwds)\n",
            "/usr/lib/python3.6/importlib/_bootstrap.py:219: RuntimeWarning: spacy.vocab.Vocab size changed, may indicate binary incompatibility. Expected 96 from C header, got 112 from PyObject\n",
            "  return f(*args, **kwds)\n",
            "100%|██████████| 40155833/40155833 [00:00<00:00, 70742489.69B/s]\n"
          ],
          "name": "stderr"
        },
        {
          "output_type": "stream",
          "text": [
            "[My sister: [My sister, She], a dog: [a dog, him]]\n"
          ],
          "name": "stdout"
        }
      ]
    },
    {
      "cell_type": "markdown",
      "metadata": {
        "id": "Epm39FEb4qwg"
      },
      "source": [
        "Semantic Equivalence"
      ]
    },
    {
      "cell_type": "code",
      "metadata": {
        "id": "jxWoa-c4Q7di",
        "outputId": "86da8e4a-dec7-4da8-d084-af55d05737f7",
        "colab": {
          "base_uri": "https://localhost:8080/",
          "height": 321,
          "referenced_widgets": [
            "360c74d9b98b4fbb9d42ebd2f6e50f52",
            "83dc9973b5b248ab8732cb50c3e9124c",
            "809a525970184b918cc385a59dbafc64",
            "9660057083484d229e49e93e70008312",
            "509ed1f3625b4dac8add71ce873bfbf6",
            "c8b396a1b45444c09425e68b7a6afd99",
            "def902af28da4b60b62852da40a1fd63",
            "84ac1ca60aec4951a80c58029b68b334",
            "fb5c986368724447912867fd21933520",
            "cc7d73d75103440ea5ece01ce553ef35",
            "2b9655f78fc0472d9134abd477201108",
            "8de0ddb4e74541bc91324763dd25be25",
            "abd48158bc4545e3b293b1f6533420da",
            "528e32d88b8e46de9b4bd45e57c0e380",
            "e566e894b58a4eeb8e3d2477a4da3321",
            "e8e0fdc56548410e9b6d25f54722143e",
            "688cb30c35264aeb999c2f85ad0dafa7",
            "1d7135e2a4a64ecbaf893849b5d34c1a",
            "468b2b33b99a439086b659ded2f67f86",
            "50161731ae06459097d1c42ce8936a3e",
            "f825f86dc48247a3872d1cb81b02da83",
            "c8e23cc6055845c98e1084b473ab716a",
            "fff14a42930f4677bf97f0015b44764d",
            "ad8a6aa67623446a8c599d6c9841d894",
            "936abbbb1c24406aa0c1ac86c0d2ba5f",
            "20d05eed6ea74b4d98cab13979102767",
            "142302826b3c4f0ca03c2c0bd0825299",
            "9a077418f54247689fa4e5268d694c6f",
            "d1d32f6ab77b4f66b6cf5b7ebcef6689",
            "cadb628a3bd84fd19f0d9037a06b6044",
            "c693490637bc44fcb04307de0c59b4b3",
            "f3514375a30c46438b29a29a5dcbd017"
          ]
        }
      },
      "source": [
        "from transformers import AutoTokenizer, AutoModelForMaskedLM\r\n",
        "\r\n",
        "tokenizer = AutoTokenizer.from_pretrained(\"bert-base-cased-finetuned-mrpc\")\r\n",
        "\r\n",
        "model = AutoModelForMaskedLM.from_pretrained(\"bert-base-cased-finetuned-mrpc\")"
      ],
      "execution_count": 3,
      "outputs": [
        {
          "output_type": "display_data",
          "data": {
            "application/vnd.jupyter.widget-view+json": {
              "model_id": "360c74d9b98b4fbb9d42ebd2f6e50f52",
              "version_minor": 0,
              "version_major": 2
            },
            "text/plain": [
              "HBox(children=(FloatProgress(value=0.0, description='Downloading', max=433.0, style=ProgressStyle(description_…"
            ]
          },
          "metadata": {
            "tags": []
          }
        },
        {
          "output_type": "stream",
          "text": [
            "\n"
          ],
          "name": "stdout"
        },
        {
          "output_type": "display_data",
          "data": {
            "application/vnd.jupyter.widget-view+json": {
              "model_id": "fb5c986368724447912867fd21933520",
              "version_minor": 0,
              "version_major": 2
            },
            "text/plain": [
              "HBox(children=(FloatProgress(value=0.0, description='Downloading', max=213450.0, style=ProgressStyle(descripti…"
            ]
          },
          "metadata": {
            "tags": []
          }
        },
        {
          "output_type": "stream",
          "text": [
            "\n"
          ],
          "name": "stdout"
        },
        {
          "output_type": "display_data",
          "data": {
            "application/vnd.jupyter.widget-view+json": {
              "model_id": "688cb30c35264aeb999c2f85ad0dafa7",
              "version_minor": 0,
              "version_major": 2
            },
            "text/plain": [
              "HBox(children=(FloatProgress(value=0.0, description='Downloading', max=435797.0, style=ProgressStyle(descripti…"
            ]
          },
          "metadata": {
            "tags": []
          }
        },
        {
          "output_type": "stream",
          "text": [
            "\n"
          ],
          "name": "stdout"
        },
        {
          "output_type": "display_data",
          "data": {
            "application/vnd.jupyter.widget-view+json": {
              "model_id": "936abbbb1c24406aa0c1ac86c0d2ba5f",
              "version_minor": 0,
              "version_major": 2
            },
            "text/plain": [
              "HBox(children=(FloatProgress(value=0.0, description='Downloading', max=433297515.0, style=ProgressStyle(descri…"
            ]
          },
          "metadata": {
            "tags": []
          }
        },
        {
          "output_type": "stream",
          "text": [
            "\n"
          ],
          "name": "stdout"
        },
        {
          "output_type": "stream",
          "text": [
            "Some weights of the model checkpoint at bert-base-cased-finetuned-mrpc were not used when initializing BertForMaskedLM: ['classifier.weight', 'classifier.bias']\n",
            "- This IS expected if you are initializing BertForMaskedLM from the checkpoint of a model trained on another task or with another architecture (e.g. initializing a BertForSequenceClassification model from a BertForPreTraining model).\n",
            "- This IS NOT expected if you are initializing BertForMaskedLM from the checkpoint of a model that you expect to be exactly identical (initializing a BertForSequenceClassification model from a BertForSequenceClassification model).\n",
            "Some weights of BertForMaskedLM were not initialized from the model checkpoint at bert-base-cased-finetuned-mrpc and are newly initialized: ['cls.predictions.bias', 'cls.predictions.transform.dense.weight', 'cls.predictions.transform.dense.bias', 'cls.predictions.transform.LayerNorm.weight', 'cls.predictions.transform.LayerNorm.bias', 'cls.predictions.decoder.weight']\n",
            "You should probably TRAIN this model on a down-stream task to be able to use it for predictions and inference.\n"
          ],
          "name": "stderr"
        }
      ]
    },
    {
      "cell_type": "code",
      "metadata": {
        "id": "QyEjjnMKQ7di",
        "outputId": "a0f1cf2f-a8d0-467f-ab68-04a093132a6a",
        "colab": {
          "base_uri": "https://localhost:8080/"
        }
      },
      "source": [
        "premise = \"The Clinton followers kept to the higher ground in the discussion.\"\r\n",
        "hypothesis = \"The Clinton surrogates also held the high ground in the context war.\"\r\n",
        "\r\n",
        "tokenized_input_seq_pair = tokenizer.encode_plus(premise, hypothesis,\r\n",
        "                                                     max_length=max_length,\r\n",
        "                                                     return_token_type_ids=True, truncation=True)\r\n",
        "input_ids = torch.Tensor(tokenized_input_seq_pair['input_ids']).long().unsqueeze(0)\r\n",
        "\r\n",
        "token_type_ids = torch.Tensor(tokenized_input_seq_pair['token_type_ids']).long().unsqueeze(0)\r\n",
        "attention_mask = torch.Tensor(tokenized_input_seq_pair['attention_mask']).long().unsqueeze(0)\r\n",
        "\r\n",
        "outputs = model(input_ids,\r\n",
        "                    attention_mask=attention_mask,\r\n",
        "                    token_type_ids=token_type_ids,\r\n",
        "                    labels=None)\r\n",
        "\r\n",
        "predicted_probability = torch.softmax(outputs[0], dim=1)[0][0].tolist()  # batch_size only one\r\n",
        "\r\n",
        "print(\"Premise:\", premise)\r\n",
        "print(\"Hypothesis:\", hypothesis)\r\n",
        "#print(\"Entailment:\", predicted_probability[0])\r\n",
        "#print(\"Neutral:\", predicted_probability[1])\r\n",
        "#print(\"Contradiction:\", predicted_probability[1])\r\n",
        "print(predicted_probability[0])\r\n",
        "print(outputs[0])\r\n"
      ],
      "execution_count": 25,
      "outputs": [
        {
          "output_type": "stream",
          "text": [
            "Premise: The Clinton followers kept to the higher ground in the discussion.\n",
            "Hypothesis: The Clinton surrogates also held the high ground in the context war.\n",
            "0.029433228075504303\n"
          ],
          "name": "stdout"
        }
      ]
    },
    {
      "cell_type": "code",
      "metadata": {
        "id": "X8lghcOPQ7di"
      },
      "source": [
        ""
      ],
      "execution_count": null,
      "outputs": []
    },
    {
      "cell_type": "code",
      "metadata": {
        "id": "xdXnZi__Q7di"
      },
      "source": [
        ""
      ],
      "execution_count": null,
      "outputs": []
    },
    {
      "cell_type": "code",
      "metadata": {
        "id": "HTWhNYGwQ7dj"
      },
      "source": [
        ""
      ],
      "execution_count": null,
      "outputs": []
    }
  ]
}