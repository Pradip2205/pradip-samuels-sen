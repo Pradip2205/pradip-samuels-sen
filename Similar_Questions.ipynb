{
  "nbformat": 4,
  "nbformat_minor": 0,
  "metadata": {
    "colab": {
      "name": "Semantic similarity.ipynb",
      "provenance": []
    },
    "kernelspec": {
      "name": "python3",
      "display_name": "Python 3"
    },
    "accelerator": "GPU",
    "widgets": {
      "application/vnd.jupyter.widget-state+json": {
        "88dc7b6ce28440ef8a4c439f313f7bde": {
          "model_module": "@jupyter-widgets/controls",
          "model_name": "HBoxModel",
          "state": {
            "_view_name": "HBoxView",
            "_dom_classes": [],
            "_model_name": "HBoxModel",
            "_view_module": "@jupyter-widgets/controls",
            "_model_module_version": "1.5.0",
            "_view_count": null,
            "_view_module_version": "1.5.0",
            "box_style": "",
            "layout": "IPY_MODEL_d4a3d483161e4ff7a7be94a7934ed54e",
            "_model_module": "@jupyter-widgets/controls",
            "children": [
              "IPY_MODEL_d405af5af7d047358ab4aef13af6d83b",
              "IPY_MODEL_fda7d9f29fb54ddcad75eecafebbde8c"
            ]
          }
        },
        "d4a3d483161e4ff7a7be94a7934ed54e": {
          "model_module": "@jupyter-widgets/base",
          "model_name": "LayoutModel",
          "state": {
            "_view_name": "LayoutView",
            "grid_template_rows": null,
            "right": null,
            "justify_content": null,
            "_view_module": "@jupyter-widgets/base",
            "overflow": null,
            "_model_module_version": "1.2.0",
            "_view_count": null,
            "flex_flow": null,
            "width": null,
            "min_width": null,
            "border": null,
            "align_items": null,
            "bottom": null,
            "_model_module": "@jupyter-widgets/base",
            "top": null,
            "grid_column": null,
            "overflow_y": null,
            "overflow_x": null,
            "grid_auto_flow": null,
            "grid_area": null,
            "grid_template_columns": null,
            "flex": null,
            "_model_name": "LayoutModel",
            "justify_items": null,
            "grid_row": null,
            "max_height": null,
            "align_content": null,
            "visibility": null,
            "align_self": null,
            "height": null,
            "min_height": null,
            "padding": null,
            "grid_auto_rows": null,
            "grid_gap": null,
            "max_width": null,
            "order": null,
            "_view_module_version": "1.2.0",
            "grid_template_areas": null,
            "object_position": null,
            "object_fit": null,
            "grid_auto_columns": null,
            "margin": null,
            "display": null,
            "left": null
          }
        },
        "d405af5af7d047358ab4aef13af6d83b": {
          "model_module": "@jupyter-widgets/controls",
          "model_name": "FloatProgressModel",
          "state": {
            "_view_name": "ProgressView",
            "style": "IPY_MODEL_0cfb85a95497450c8b2badd520789a5c",
            "_dom_classes": [],
            "description": "Downloading: 100%",
            "_model_name": "FloatProgressModel",
            "bar_style": "success",
            "max": 896,
            "_view_module": "@jupyter-widgets/controls",
            "_model_module_version": "1.5.0",
            "value": 896,
            "_view_count": null,
            "_view_module_version": "1.5.0",
            "orientation": "horizontal",
            "min": 0,
            "description_tooltip": null,
            "_model_module": "@jupyter-widgets/controls",
            "layout": "IPY_MODEL_f8dc0dab485c4df8b5242704fbf7cad0"
          }
        },
        "fda7d9f29fb54ddcad75eecafebbde8c": {
          "model_module": "@jupyter-widgets/controls",
          "model_name": "HTMLModel",
          "state": {
            "_view_name": "HTMLView",
            "style": "IPY_MODEL_a415f9d64f4b48ea912c1dfffad40ac2",
            "_dom_classes": [],
            "description": "",
            "_model_name": "HTMLModel",
            "placeholder": "​",
            "_view_module": "@jupyter-widgets/controls",
            "_model_module_version": "1.5.0",
            "value": " 896/896 [00:00&lt;00:00, 1.85kB/s]",
            "_view_count": null,
            "_view_module_version": "1.5.0",
            "description_tooltip": null,
            "_model_module": "@jupyter-widgets/controls",
            "layout": "IPY_MODEL_b839c96bbdfb4ebe83b4ab07ba3e35f0"
          }
        },
        "0cfb85a95497450c8b2badd520789a5c": {
          "model_module": "@jupyter-widgets/controls",
          "model_name": "ProgressStyleModel",
          "state": {
            "_view_name": "StyleView",
            "_model_name": "ProgressStyleModel",
            "description_width": "initial",
            "_view_module": "@jupyter-widgets/base",
            "_model_module_version": "1.5.0",
            "_view_count": null,
            "_view_module_version": "1.2.0",
            "bar_color": null,
            "_model_module": "@jupyter-widgets/controls"
          }
        },
        "f8dc0dab485c4df8b5242704fbf7cad0": {
          "model_module": "@jupyter-widgets/base",
          "model_name": "LayoutModel",
          "state": {
            "_view_name": "LayoutView",
            "grid_template_rows": null,
            "right": null,
            "justify_content": null,
            "_view_module": "@jupyter-widgets/base",
            "overflow": null,
            "_model_module_version": "1.2.0",
            "_view_count": null,
            "flex_flow": null,
            "width": null,
            "min_width": null,
            "border": null,
            "align_items": null,
            "bottom": null,
            "_model_module": "@jupyter-widgets/base",
            "top": null,
            "grid_column": null,
            "overflow_y": null,
            "overflow_x": null,
            "grid_auto_flow": null,
            "grid_area": null,
            "grid_template_columns": null,
            "flex": null,
            "_model_name": "LayoutModel",
            "justify_items": null,
            "grid_row": null,
            "max_height": null,
            "align_content": null,
            "visibility": null,
            "align_self": null,
            "height": null,
            "min_height": null,
            "padding": null,
            "grid_auto_rows": null,
            "grid_gap": null,
            "max_width": null,
            "order": null,
            "_view_module_version": "1.2.0",
            "grid_template_areas": null,
            "object_position": null,
            "object_fit": null,
            "grid_auto_columns": null,
            "margin": null,
            "display": null,
            "left": null
          }
        },
        "a415f9d64f4b48ea912c1dfffad40ac2": {
          "model_module": "@jupyter-widgets/controls",
          "model_name": "DescriptionStyleModel",
          "state": {
            "_view_name": "StyleView",
            "_model_name": "DescriptionStyleModel",
            "description_width": "",
            "_view_module": "@jupyter-widgets/base",
            "_model_module_version": "1.5.0",
            "_view_count": null,
            "_view_module_version": "1.2.0",
            "_model_module": "@jupyter-widgets/controls"
          }
        },
        "b839c96bbdfb4ebe83b4ab07ba3e35f0": {
          "model_module": "@jupyter-widgets/base",
          "model_name": "LayoutModel",
          "state": {
            "_view_name": "LayoutView",
            "grid_template_rows": null,
            "right": null,
            "justify_content": null,
            "_view_module": "@jupyter-widgets/base",
            "overflow": null,
            "_model_module_version": "1.2.0",
            "_view_count": null,
            "flex_flow": null,
            "width": null,
            "min_width": null,
            "border": null,
            "align_items": null,
            "bottom": null,
            "_model_module": "@jupyter-widgets/base",
            "top": null,
            "grid_column": null,
            "overflow_y": null,
            "overflow_x": null,
            "grid_auto_flow": null,
            "grid_area": null,
            "grid_template_columns": null,
            "flex": null,
            "_model_name": "LayoutModel",
            "justify_items": null,
            "grid_row": null,
            "max_height": null,
            "align_content": null,
            "visibility": null,
            "align_self": null,
            "height": null,
            "min_height": null,
            "padding": null,
            "grid_auto_rows": null,
            "grid_gap": null,
            "max_width": null,
            "order": null,
            "_view_module_version": "1.2.0",
            "grid_template_areas": null,
            "object_position": null,
            "object_fit": null,
            "grid_auto_columns": null,
            "margin": null,
            "display": null,
            "left": null
          }
        },
        "75ca1158076d43ec86bc5e85ee692605": {
          "model_module": "@jupyter-widgets/controls",
          "model_name": "HBoxModel",
          "state": {
            "_view_name": "HBoxView",
            "_dom_classes": [],
            "_model_name": "HBoxModel",
            "_view_module": "@jupyter-widgets/controls",
            "_model_module_version": "1.5.0",
            "_view_count": null,
            "_view_module_version": "1.5.0",
            "box_style": "",
            "layout": "IPY_MODEL_a1c4399dcf23468ebb69f66451e63139",
            "_model_module": "@jupyter-widgets/controls",
            "children": [
              "IPY_MODEL_47319c1d47b640689adce77b6ee71359",
              "IPY_MODEL_28c0bd07b93d41448010f3eac7ba6bda"
            ]
          }
        },
        "a1c4399dcf23468ebb69f66451e63139": {
          "model_module": "@jupyter-widgets/base",
          "model_name": "LayoutModel",
          "state": {
            "_view_name": "LayoutView",
            "grid_template_rows": null,
            "right": null,
            "justify_content": null,
            "_view_module": "@jupyter-widgets/base",
            "overflow": null,
            "_model_module_version": "1.2.0",
            "_view_count": null,
            "flex_flow": null,
            "width": null,
            "min_width": null,
            "border": null,
            "align_items": null,
            "bottom": null,
            "_model_module": "@jupyter-widgets/base",
            "top": null,
            "grid_column": null,
            "overflow_y": null,
            "overflow_x": null,
            "grid_auto_flow": null,
            "grid_area": null,
            "grid_template_columns": null,
            "flex": null,
            "_model_name": "LayoutModel",
            "justify_items": null,
            "grid_row": null,
            "max_height": null,
            "align_content": null,
            "visibility": null,
            "align_self": null,
            "height": null,
            "min_height": null,
            "padding": null,
            "grid_auto_rows": null,
            "grid_gap": null,
            "max_width": null,
            "order": null,
            "_view_module_version": "1.2.0",
            "grid_template_areas": null,
            "object_position": null,
            "object_fit": null,
            "grid_auto_columns": null,
            "margin": null,
            "display": null,
            "left": null
          }
        },
        "47319c1d47b640689adce77b6ee71359": {
          "model_module": "@jupyter-widgets/controls",
          "model_name": "FloatProgressModel",
          "state": {
            "_view_name": "ProgressView",
            "style": "IPY_MODEL_65d6d6e56b75498681f6d525a5646a77",
            "_dom_classes": [],
            "description": "Downloading: 100%",
            "_model_name": "FloatProgressModel",
            "bar_style": "success",
            "max": 760289,
            "_view_module": "@jupyter-widgets/controls",
            "_model_module_version": "1.5.0",
            "value": 760289,
            "_view_count": null,
            "_view_module_version": "1.5.0",
            "orientation": "horizontal",
            "min": 0,
            "description_tooltip": null,
            "_model_module": "@jupyter-widgets/controls",
            "layout": "IPY_MODEL_56fcdd7f1ce447a495fae843097ce957"
          }
        },
        "28c0bd07b93d41448010f3eac7ba6bda": {
          "model_module": "@jupyter-widgets/controls",
          "model_name": "HTMLModel",
          "state": {
            "_view_name": "HTMLView",
            "style": "IPY_MODEL_827cf5931fc0452a9bb797e83674f42b",
            "_dom_classes": [],
            "description": "",
            "_model_name": "HTMLModel",
            "placeholder": "​",
            "_view_module": "@jupyter-widgets/controls",
            "_model_module_version": "1.5.0",
            "value": " 760k/760k [00:01&lt;00:00, 421kB/s]",
            "_view_count": null,
            "_view_module_version": "1.5.0",
            "description_tooltip": null,
            "_model_module": "@jupyter-widgets/controls",
            "layout": "IPY_MODEL_0c2b2a1517e04c55a0f7a9a18e732d2e"
          }
        },
        "65d6d6e56b75498681f6d525a5646a77": {
          "model_module": "@jupyter-widgets/controls",
          "model_name": "ProgressStyleModel",
          "state": {
            "_view_name": "StyleView",
            "_model_name": "ProgressStyleModel",
            "description_width": "initial",
            "_view_module": "@jupyter-widgets/base",
            "_model_module_version": "1.5.0",
            "_view_count": null,
            "_view_module_version": "1.2.0",
            "bar_color": null,
            "_model_module": "@jupyter-widgets/controls"
          }
        },
        "56fcdd7f1ce447a495fae843097ce957": {
          "model_module": "@jupyter-widgets/base",
          "model_name": "LayoutModel",
          "state": {
            "_view_name": "LayoutView",
            "grid_template_rows": null,
            "right": null,
            "justify_content": null,
            "_view_module": "@jupyter-widgets/base",
            "overflow": null,
            "_model_module_version": "1.2.0",
            "_view_count": null,
            "flex_flow": null,
            "width": null,
            "min_width": null,
            "border": null,
            "align_items": null,
            "bottom": null,
            "_model_module": "@jupyter-widgets/base",
            "top": null,
            "grid_column": null,
            "overflow_y": null,
            "overflow_x": null,
            "grid_auto_flow": null,
            "grid_area": null,
            "grid_template_columns": null,
            "flex": null,
            "_model_name": "LayoutModel",
            "justify_items": null,
            "grid_row": null,
            "max_height": null,
            "align_content": null,
            "visibility": null,
            "align_self": null,
            "height": null,
            "min_height": null,
            "padding": null,
            "grid_auto_rows": null,
            "grid_gap": null,
            "max_width": null,
            "order": null,
            "_view_module_version": "1.2.0",
            "grid_template_areas": null,
            "object_position": null,
            "object_fit": null,
            "grid_auto_columns": null,
            "margin": null,
            "display": null,
            "left": null
          }
        },
        "827cf5931fc0452a9bb797e83674f42b": {
          "model_module": "@jupyter-widgets/controls",
          "model_name": "DescriptionStyleModel",
          "state": {
            "_view_name": "StyleView",
            "_model_name": "DescriptionStyleModel",
            "description_width": "",
            "_view_module": "@jupyter-widgets/base",
            "_model_module_version": "1.5.0",
            "_view_count": null,
            "_view_module_version": "1.2.0",
            "_model_module": "@jupyter-widgets/controls"
          }
        },
        "0c2b2a1517e04c55a0f7a9a18e732d2e": {
          "model_module": "@jupyter-widgets/base",
          "model_name": "LayoutModel",
          "state": {
            "_view_name": "LayoutView",
            "grid_template_rows": null,
            "right": null,
            "justify_content": null,
            "_view_module": "@jupyter-widgets/base",
            "overflow": null,
            "_model_module_version": "1.2.0",
            "_view_count": null,
            "flex_flow": null,
            "width": null,
            "min_width": null,
            "border": null,
            "align_items": null,
            "bottom": null,
            "_model_module": "@jupyter-widgets/base",
            "top": null,
            "grid_column": null,
            "overflow_y": null,
            "overflow_x": null,
            "grid_auto_flow": null,
            "grid_area": null,
            "grid_template_columns": null,
            "flex": null,
            "_model_name": "LayoutModel",
            "justify_items": null,
            "grid_row": null,
            "max_height": null,
            "align_content": null,
            "visibility": null,
            "align_self": null,
            "height": null,
            "min_height": null,
            "padding": null,
            "grid_auto_rows": null,
            "grid_gap": null,
            "max_width": null,
            "order": null,
            "_view_module_version": "1.2.0",
            "grid_template_areas": null,
            "object_position": null,
            "object_fit": null,
            "grid_auto_columns": null,
            "margin": null,
            "display": null,
            "left": null
          }
        },
        "03137766e5ae412f981e7b4994c489ac": {
          "model_module": "@jupyter-widgets/controls",
          "model_name": "HBoxModel",
          "state": {
            "_view_name": "HBoxView",
            "_dom_classes": [],
            "_model_name": "HBoxModel",
            "_view_module": "@jupyter-widgets/controls",
            "_model_module_version": "1.5.0",
            "_view_count": null,
            "_view_module_version": "1.5.0",
            "box_style": "",
            "layout": "IPY_MODEL_dbf0892227724791a8460d17882964ba",
            "_model_module": "@jupyter-widgets/controls",
            "children": [
              "IPY_MODEL_6fd016b073594d68ac45243cb7e5b18f",
              "IPY_MODEL_b115319d480c4121b6fe4dd7eead65d5"
            ]
          }
        },
        "dbf0892227724791a8460d17882964ba": {
          "model_module": "@jupyter-widgets/base",
          "model_name": "LayoutModel",
          "state": {
            "_view_name": "LayoutView",
            "grid_template_rows": null,
            "right": null,
            "justify_content": null,
            "_view_module": "@jupyter-widgets/base",
            "overflow": null,
            "_model_module_version": "1.2.0",
            "_view_count": null,
            "flex_flow": null,
            "width": null,
            "min_width": null,
            "border": null,
            "align_items": null,
            "bottom": null,
            "_model_module": "@jupyter-widgets/base",
            "top": null,
            "grid_column": null,
            "overflow_y": null,
            "overflow_x": null,
            "grid_auto_flow": null,
            "grid_area": null,
            "grid_template_columns": null,
            "flex": null,
            "_model_name": "LayoutModel",
            "justify_items": null,
            "grid_row": null,
            "max_height": null,
            "align_content": null,
            "visibility": null,
            "align_self": null,
            "height": null,
            "min_height": null,
            "padding": null,
            "grid_auto_rows": null,
            "grid_gap": null,
            "max_width": null,
            "order": null,
            "_view_module_version": "1.2.0",
            "grid_template_areas": null,
            "object_position": null,
            "object_fit": null,
            "grid_auto_columns": null,
            "margin": null,
            "display": null,
            "left": null
          }
        },
        "6fd016b073594d68ac45243cb7e5b18f": {
          "model_module": "@jupyter-widgets/controls",
          "model_name": "FloatProgressModel",
          "state": {
            "_view_name": "ProgressView",
            "style": "IPY_MODEL_333b528fe5914edcb8a37494b97e85da",
            "_dom_classes": [],
            "description": "Downloading: 100%",
            "_model_name": "FloatProgressModel",
            "bar_style": "success",
            "max": 156,
            "_view_module": "@jupyter-widgets/controls",
            "_model_module_version": "1.5.0",
            "value": 156,
            "_view_count": null,
            "_view_module_version": "1.5.0",
            "orientation": "horizontal",
            "min": 0,
            "description_tooltip": null,
            "_model_module": "@jupyter-widgets/controls",
            "layout": "IPY_MODEL_57f40b066d86407b9e808d50aa6536c4"
          }
        },
        "b115319d480c4121b6fe4dd7eead65d5": {
          "model_module": "@jupyter-widgets/controls",
          "model_name": "HTMLModel",
          "state": {
            "_view_name": "HTMLView",
            "style": "IPY_MODEL_499701957f5241f18c4d4776f48c2791",
            "_dom_classes": [],
            "description": "",
            "_model_name": "HTMLModel",
            "placeholder": "​",
            "_view_module": "@jupyter-widgets/controls",
            "_model_module_version": "1.5.0",
            "value": " 156/156 [00:00&lt;00:00, 271B/s]",
            "_view_count": null,
            "_view_module_version": "1.5.0",
            "description_tooltip": null,
            "_model_module": "@jupyter-widgets/controls",
            "layout": "IPY_MODEL_b1359b6b1c1a4ec4a4b5f271d8c52146"
          }
        },
        "333b528fe5914edcb8a37494b97e85da": {
          "model_module": "@jupyter-widgets/controls",
          "model_name": "ProgressStyleModel",
          "state": {
            "_view_name": "StyleView",
            "_model_name": "ProgressStyleModel",
            "description_width": "initial",
            "_view_module": "@jupyter-widgets/base",
            "_model_module_version": "1.5.0",
            "_view_count": null,
            "_view_module_version": "1.2.0",
            "bar_color": null,
            "_model_module": "@jupyter-widgets/controls"
          }
        },
        "57f40b066d86407b9e808d50aa6536c4": {
          "model_module": "@jupyter-widgets/base",
          "model_name": "LayoutModel",
          "state": {
            "_view_name": "LayoutView",
            "grid_template_rows": null,
            "right": null,
            "justify_content": null,
            "_view_module": "@jupyter-widgets/base",
            "overflow": null,
            "_model_module_version": "1.2.0",
            "_view_count": null,
            "flex_flow": null,
            "width": null,
            "min_width": null,
            "border": null,
            "align_items": null,
            "bottom": null,
            "_model_module": "@jupyter-widgets/base",
            "top": null,
            "grid_column": null,
            "overflow_y": null,
            "overflow_x": null,
            "grid_auto_flow": null,
            "grid_area": null,
            "grid_template_columns": null,
            "flex": null,
            "_model_name": "LayoutModel",
            "justify_items": null,
            "grid_row": null,
            "max_height": null,
            "align_content": null,
            "visibility": null,
            "align_self": null,
            "height": null,
            "min_height": null,
            "padding": null,
            "grid_auto_rows": null,
            "grid_gap": null,
            "max_width": null,
            "order": null,
            "_view_module_version": "1.2.0",
            "grid_template_areas": null,
            "object_position": null,
            "object_fit": null,
            "grid_auto_columns": null,
            "margin": null,
            "display": null,
            "left": null
          }
        },
        "499701957f5241f18c4d4776f48c2791": {
          "model_module": "@jupyter-widgets/controls",
          "model_name": "DescriptionStyleModel",
          "state": {
            "_view_name": "StyleView",
            "_model_name": "DescriptionStyleModel",
            "description_width": "",
            "_view_module": "@jupyter-widgets/base",
            "_model_module_version": "1.5.0",
            "_view_count": null,
            "_view_module_version": "1.2.0",
            "_model_module": "@jupyter-widgets/controls"
          }
        },
        "b1359b6b1c1a4ec4a4b5f271d8c52146": {
          "model_module": "@jupyter-widgets/base",
          "model_name": "LayoutModel",
          "state": {
            "_view_name": "LayoutView",
            "grid_template_rows": null,
            "right": null,
            "justify_content": null,
            "_view_module": "@jupyter-widgets/base",
            "overflow": null,
            "_model_module_version": "1.2.0",
            "_view_count": null,
            "flex_flow": null,
            "width": null,
            "min_width": null,
            "border": null,
            "align_items": null,
            "bottom": null,
            "_model_module": "@jupyter-widgets/base",
            "top": null,
            "grid_column": null,
            "overflow_y": null,
            "overflow_x": null,
            "grid_auto_flow": null,
            "grid_area": null,
            "grid_template_columns": null,
            "flex": null,
            "_model_name": "LayoutModel",
            "justify_items": null,
            "grid_row": null,
            "max_height": null,
            "align_content": null,
            "visibility": null,
            "align_self": null,
            "height": null,
            "min_height": null,
            "padding": null,
            "grid_auto_rows": null,
            "grid_gap": null,
            "max_width": null,
            "order": null,
            "_view_module_version": "1.2.0",
            "grid_template_areas": null,
            "object_position": null,
            "object_fit": null,
            "grid_auto_columns": null,
            "margin": null,
            "display": null,
            "left": null
          }
        },
        "5ff2a750026146a88550c3afce178159": {
          "model_module": "@jupyter-widgets/controls",
          "model_name": "HBoxModel",
          "state": {
            "_view_name": "HBoxView",
            "_dom_classes": [],
            "_model_name": "HBoxModel",
            "_view_module": "@jupyter-widgets/controls",
            "_model_module_version": "1.5.0",
            "_view_count": null,
            "_view_module_version": "1.5.0",
            "box_style": "",
            "layout": "IPY_MODEL_89e45d02f1e64655b934f955f131654c",
            "_model_module": "@jupyter-widgets/controls",
            "children": [
              "IPY_MODEL_5eea331cbbaf407f84f893835987a69f",
              "IPY_MODEL_77deb0fb5e734936ae3029bacfb7a346"
            ]
          }
        },
        "89e45d02f1e64655b934f955f131654c": {
          "model_module": "@jupyter-widgets/base",
          "model_name": "LayoutModel",
          "state": {
            "_view_name": "LayoutView",
            "grid_template_rows": null,
            "right": null,
            "justify_content": null,
            "_view_module": "@jupyter-widgets/base",
            "overflow": null,
            "_model_module_version": "1.2.0",
            "_view_count": null,
            "flex_flow": null,
            "width": null,
            "min_width": null,
            "border": null,
            "align_items": null,
            "bottom": null,
            "_model_module": "@jupyter-widgets/base",
            "top": null,
            "grid_column": null,
            "overflow_y": null,
            "overflow_x": null,
            "grid_auto_flow": null,
            "grid_area": null,
            "grid_template_columns": null,
            "flex": null,
            "_model_name": "LayoutModel",
            "justify_items": null,
            "grid_row": null,
            "max_height": null,
            "align_content": null,
            "visibility": null,
            "align_self": null,
            "height": null,
            "min_height": null,
            "padding": null,
            "grid_auto_rows": null,
            "grid_gap": null,
            "max_width": null,
            "order": null,
            "_view_module_version": "1.2.0",
            "grid_template_areas": null,
            "object_position": null,
            "object_fit": null,
            "grid_auto_columns": null,
            "margin": null,
            "display": null,
            "left": null
          }
        },
        "5eea331cbbaf407f84f893835987a69f": {
          "model_module": "@jupyter-widgets/controls",
          "model_name": "FloatProgressModel",
          "state": {
            "_view_name": "ProgressView",
            "style": "IPY_MODEL_ad6e8602770f4f17bfc0e1ade0b7ad73",
            "_dom_classes": [],
            "description": "Downloading: 100%",
            "_model_name": "FloatProgressModel",
            "bar_style": "success",
            "max": 48,
            "_view_module": "@jupyter-widgets/controls",
            "_model_module_version": "1.5.0",
            "value": 48,
            "_view_count": null,
            "_view_module_version": "1.5.0",
            "orientation": "horizontal",
            "min": 0,
            "description_tooltip": null,
            "_model_module": "@jupyter-widgets/controls",
            "layout": "IPY_MODEL_b10f655a5bb541bdbd07b8dcadc4c991"
          }
        },
        "77deb0fb5e734936ae3029bacfb7a346": {
          "model_module": "@jupyter-widgets/controls",
          "model_name": "HTMLModel",
          "state": {
            "_view_name": "HTMLView",
            "style": "IPY_MODEL_9c2f174d54d44e2a92a5c9e55378339f",
            "_dom_classes": [],
            "description": "",
            "_model_name": "HTMLModel",
            "placeholder": "​",
            "_view_module": "@jupyter-widgets/controls",
            "_model_module_version": "1.5.0",
            "value": " 48.0/48.0 [00:00&lt;00:00, 441B/s]",
            "_view_count": null,
            "_view_module_version": "1.5.0",
            "description_tooltip": null,
            "_model_module": "@jupyter-widgets/controls",
            "layout": "IPY_MODEL_b2e976899fbc4f48962d246f2fc216ac"
          }
        },
        "ad6e8602770f4f17bfc0e1ade0b7ad73": {
          "model_module": "@jupyter-widgets/controls",
          "model_name": "ProgressStyleModel",
          "state": {
            "_view_name": "StyleView",
            "_model_name": "ProgressStyleModel",
            "description_width": "initial",
            "_view_module": "@jupyter-widgets/base",
            "_model_module_version": "1.5.0",
            "_view_count": null,
            "_view_module_version": "1.2.0",
            "bar_color": null,
            "_model_module": "@jupyter-widgets/controls"
          }
        },
        "b10f655a5bb541bdbd07b8dcadc4c991": {
          "model_module": "@jupyter-widgets/base",
          "model_name": "LayoutModel",
          "state": {
            "_view_name": "LayoutView",
            "grid_template_rows": null,
            "right": null,
            "justify_content": null,
            "_view_module": "@jupyter-widgets/base",
            "overflow": null,
            "_model_module_version": "1.2.0",
            "_view_count": null,
            "flex_flow": null,
            "width": null,
            "min_width": null,
            "border": null,
            "align_items": null,
            "bottom": null,
            "_model_module": "@jupyter-widgets/base",
            "top": null,
            "grid_column": null,
            "overflow_y": null,
            "overflow_x": null,
            "grid_auto_flow": null,
            "grid_area": null,
            "grid_template_columns": null,
            "flex": null,
            "_model_name": "LayoutModel",
            "justify_items": null,
            "grid_row": null,
            "max_height": null,
            "align_content": null,
            "visibility": null,
            "align_self": null,
            "height": null,
            "min_height": null,
            "padding": null,
            "grid_auto_rows": null,
            "grid_gap": null,
            "max_width": null,
            "order": null,
            "_view_module_version": "1.2.0",
            "grid_template_areas": null,
            "object_position": null,
            "object_fit": null,
            "grid_auto_columns": null,
            "margin": null,
            "display": null,
            "left": null
          }
        },
        "9c2f174d54d44e2a92a5c9e55378339f": {
          "model_module": "@jupyter-widgets/controls",
          "model_name": "DescriptionStyleModel",
          "state": {
            "_view_name": "StyleView",
            "_model_name": "DescriptionStyleModel",
            "description_width": "",
            "_view_module": "@jupyter-widgets/base",
            "_model_module_version": "1.5.0",
            "_view_count": null,
            "_view_module_version": "1.2.0",
            "_model_module": "@jupyter-widgets/controls"
          }
        },
        "b2e976899fbc4f48962d246f2fc216ac": {
          "model_module": "@jupyter-widgets/base",
          "model_name": "LayoutModel",
          "state": {
            "_view_name": "LayoutView",
            "grid_template_rows": null,
            "right": null,
            "justify_content": null,
            "_view_module": "@jupyter-widgets/base",
            "overflow": null,
            "_model_module_version": "1.2.0",
            "_view_count": null,
            "flex_flow": null,
            "width": null,
            "min_width": null,
            "border": null,
            "align_items": null,
            "bottom": null,
            "_model_module": "@jupyter-widgets/base",
            "top": null,
            "grid_column": null,
            "overflow_y": null,
            "overflow_x": null,
            "grid_auto_flow": null,
            "grid_area": null,
            "grid_template_columns": null,
            "flex": null,
            "_model_name": "LayoutModel",
            "justify_items": null,
            "grid_row": null,
            "max_height": null,
            "align_content": null,
            "visibility": null,
            "align_self": null,
            "height": null,
            "min_height": null,
            "padding": null,
            "grid_auto_rows": null,
            "grid_gap": null,
            "max_width": null,
            "order": null,
            "_view_module_version": "1.2.0",
            "grid_template_areas": null,
            "object_position": null,
            "object_fit": null,
            "grid_auto_columns": null,
            "margin": null,
            "display": null,
            "left": null
          }
        },
        "be57361d12f3405eaf90f88113103413": {
          "model_module": "@jupyter-widgets/controls",
          "model_name": "HBoxModel",
          "state": {
            "_view_name": "HBoxView",
            "_dom_classes": [],
            "_model_name": "HBoxModel",
            "_view_module": "@jupyter-widgets/controls",
            "_model_module_version": "1.5.0",
            "_view_count": null,
            "_view_module_version": "1.5.0",
            "box_style": "",
            "layout": "IPY_MODEL_d07d8918b9824040a80aca79dc349236",
            "_model_module": "@jupyter-widgets/controls",
            "children": [
              "IPY_MODEL_f3e28a8c6cdd41fcbe691009a8d4d713",
              "IPY_MODEL_ab2c13f04e054ef88ac8deec2ff10565"
            ]
          }
        },
        "d07d8918b9824040a80aca79dc349236": {
          "model_module": "@jupyter-widgets/base",
          "model_name": "LayoutModel",
          "state": {
            "_view_name": "LayoutView",
            "grid_template_rows": null,
            "right": null,
            "justify_content": null,
            "_view_module": "@jupyter-widgets/base",
            "overflow": null,
            "_model_module_version": "1.2.0",
            "_view_count": null,
            "flex_flow": null,
            "width": null,
            "min_width": null,
            "border": null,
            "align_items": null,
            "bottom": null,
            "_model_module": "@jupyter-widgets/base",
            "top": null,
            "grid_column": null,
            "overflow_y": null,
            "overflow_x": null,
            "grid_auto_flow": null,
            "grid_area": null,
            "grid_template_columns": null,
            "flex": null,
            "_model_name": "LayoutModel",
            "justify_items": null,
            "grid_row": null,
            "max_height": null,
            "align_content": null,
            "visibility": null,
            "align_self": null,
            "height": null,
            "min_height": null,
            "padding": null,
            "grid_auto_rows": null,
            "grid_gap": null,
            "max_width": null,
            "order": null,
            "_view_module_version": "1.2.0",
            "grid_template_areas": null,
            "object_position": null,
            "object_fit": null,
            "grid_auto_columns": null,
            "margin": null,
            "display": null,
            "left": null
          }
        },
        "f3e28a8c6cdd41fcbe691009a8d4d713": {
          "model_module": "@jupyter-widgets/controls",
          "model_name": "FloatProgressModel",
          "state": {
            "_view_name": "ProgressView",
            "style": "IPY_MODEL_5b1e33fe4bd74660bef848626f49b334",
            "_dom_classes": [],
            "description": "Downloading: 100%",
            "_model_name": "FloatProgressModel",
            "bar_style": "success",
            "max": 890442685,
            "_view_module": "@jupyter-widgets/controls",
            "_model_module_version": "1.5.0",
            "value": 890442685,
            "_view_count": null,
            "_view_module_version": "1.5.0",
            "orientation": "horizontal",
            "min": 0,
            "description_tooltip": null,
            "_model_module": "@jupyter-widgets/controls",
            "layout": "IPY_MODEL_3d6da7a314f740b2a155ce0084450fbe"
          }
        },
        "ab2c13f04e054ef88ac8deec2ff10565": {
          "model_module": "@jupyter-widgets/controls",
          "model_name": "HTMLModel",
          "state": {
            "_view_name": "HTMLView",
            "style": "IPY_MODEL_5b78f78822d24efaa64f032388545dea",
            "_dom_classes": [],
            "description": "",
            "_model_name": "HTMLModel",
            "placeholder": "​",
            "_view_module": "@jupyter-widgets/controls",
            "_model_module_version": "1.5.0",
            "value": " 890M/890M [00:26&lt;00:00, 33.4MB/s]",
            "_view_count": null,
            "_view_module_version": "1.5.0",
            "description_tooltip": null,
            "_model_module": "@jupyter-widgets/controls",
            "layout": "IPY_MODEL_670d06dae3ce46c3a55f476907c17a9e"
          }
        },
        "5b1e33fe4bd74660bef848626f49b334": {
          "model_module": "@jupyter-widgets/controls",
          "model_name": "ProgressStyleModel",
          "state": {
            "_view_name": "StyleView",
            "_model_name": "ProgressStyleModel",
            "description_width": "initial",
            "_view_module": "@jupyter-widgets/base",
            "_model_module_version": "1.5.0",
            "_view_count": null,
            "_view_module_version": "1.2.0",
            "bar_color": null,
            "_model_module": "@jupyter-widgets/controls"
          }
        },
        "3d6da7a314f740b2a155ce0084450fbe": {
          "model_module": "@jupyter-widgets/base",
          "model_name": "LayoutModel",
          "state": {
            "_view_name": "LayoutView",
            "grid_template_rows": null,
            "right": null,
            "justify_content": null,
            "_view_module": "@jupyter-widgets/base",
            "overflow": null,
            "_model_module_version": "1.2.0",
            "_view_count": null,
            "flex_flow": null,
            "width": null,
            "min_width": null,
            "border": null,
            "align_items": null,
            "bottom": null,
            "_model_module": "@jupyter-widgets/base",
            "top": null,
            "grid_column": null,
            "overflow_y": null,
            "overflow_x": null,
            "grid_auto_flow": null,
            "grid_area": null,
            "grid_template_columns": null,
            "flex": null,
            "_model_name": "LayoutModel",
            "justify_items": null,
            "grid_row": null,
            "max_height": null,
            "align_content": null,
            "visibility": null,
            "align_self": null,
            "height": null,
            "min_height": null,
            "padding": null,
            "grid_auto_rows": null,
            "grid_gap": null,
            "max_width": null,
            "order": null,
            "_view_module_version": "1.2.0",
            "grid_template_areas": null,
            "object_position": null,
            "object_fit": null,
            "grid_auto_columns": null,
            "margin": null,
            "display": null,
            "left": null
          }
        },
        "5b78f78822d24efaa64f032388545dea": {
          "model_module": "@jupyter-widgets/controls",
          "model_name": "DescriptionStyleModel",
          "state": {
            "_view_name": "StyleView",
            "_model_name": "DescriptionStyleModel",
            "description_width": "",
            "_view_module": "@jupyter-widgets/base",
            "_model_module_version": "1.5.0",
            "_view_count": null,
            "_view_module_version": "1.2.0",
            "_model_module": "@jupyter-widgets/controls"
          }
        },
        "670d06dae3ce46c3a55f476907c17a9e": {
          "model_module": "@jupyter-widgets/base",
          "model_name": "LayoutModel",
          "state": {
            "_view_name": "LayoutView",
            "grid_template_rows": null,
            "right": null,
            "justify_content": null,
            "_view_module": "@jupyter-widgets/base",
            "overflow": null,
            "_model_module_version": "1.2.0",
            "_view_count": null,
            "flex_flow": null,
            "width": null,
            "min_width": null,
            "border": null,
            "align_items": null,
            "bottom": null,
            "_model_module": "@jupyter-widgets/base",
            "top": null,
            "grid_column": null,
            "overflow_y": null,
            "overflow_x": null,
            "grid_auto_flow": null,
            "grid_area": null,
            "grid_template_columns": null,
            "flex": null,
            "_model_name": "LayoutModel",
            "justify_items": null,
            "grid_row": null,
            "max_height": null,
            "align_content": null,
            "visibility": null,
            "align_self": null,
            "height": null,
            "min_height": null,
            "padding": null,
            "grid_auto_rows": null,
            "grid_gap": null,
            "max_width": null,
            "order": null,
            "_view_module_version": "1.2.0",
            "grid_template_areas": null,
            "object_position": null,
            "object_fit": null,
            "grid_auto_columns": null,
            "margin": null,
            "display": null,
            "left": null
          }
        }
      }
    }
  },
  "cells": [
    {
      "cell_type": "markdown",
      "metadata": {
        "id": "ERWFXY5O9_uT"
      },
      "source": [
        "\n",
        "Entailment\n"
      ]
    },
    {
      "cell_type": "code",
      "metadata": {
        "colab": {
          "base_uri": "https://localhost:8080/"
        },
        "id": "68r5y5hlsnju",
        "outputId": "d2612052-c803-47bc-d98a-a65653089a10"
      },
      "source": [
        "pip install transformers"
      ],
      "execution_count": 3,
      "outputs": [
        {
          "output_type": "stream",
          "text": [
            "Collecting transformers\n",
            "\u001b[?25l  Downloading https://files.pythonhosted.org/packages/ed/db/98c3ea1a78190dac41c0127a063abf92bd01b4b0b6970a6db1c2f5b66fa0/transformers-4.0.1-py3-none-any.whl (1.4MB)\n",
            "\r\u001b[K     |▎                               | 10kB 19.0MB/s eta 0:00:01\r\u001b[K     |▌                               | 20kB 18.1MB/s eta 0:00:01\r\u001b[K     |▊                               | 30kB 14.4MB/s eta 0:00:01\r\u001b[K     |█                               | 40kB 12.9MB/s eta 0:00:01\r\u001b[K     |█▏                              | 51kB 8.7MB/s eta 0:00:01\r\u001b[K     |█▌                              | 61kB 7.9MB/s eta 0:00:01\r\u001b[K     |█▊                              | 71kB 9.0MB/s eta 0:00:01\r\u001b[K     |██                              | 81kB 10.0MB/s eta 0:00:01\r\u001b[K     |██▏                             | 92kB 9.3MB/s eta 0:00:01\r\u001b[K     |██▍                             | 102kB 8.2MB/s eta 0:00:01\r\u001b[K     |██▋                             | 112kB 8.2MB/s eta 0:00:01\r\u001b[K     |███                             | 122kB 8.2MB/s eta 0:00:01\r\u001b[K     |███▏                            | 133kB 8.2MB/s eta 0:00:01\r\u001b[K     |███▍                            | 143kB 8.2MB/s eta 0:00:01\r\u001b[K     |███▋                            | 153kB 8.2MB/s eta 0:00:01\r\u001b[K     |███▉                            | 163kB 8.2MB/s eta 0:00:01\r\u001b[K     |████▏                           | 174kB 8.2MB/s eta 0:00:01\r\u001b[K     |████▍                           | 184kB 8.2MB/s eta 0:00:01\r\u001b[K     |████▋                           | 194kB 8.2MB/s eta 0:00:01\r\u001b[K     |████▉                           | 204kB 8.2MB/s eta 0:00:01\r\u001b[K     |█████                           | 215kB 8.2MB/s eta 0:00:01\r\u001b[K     |█████▎                          | 225kB 8.2MB/s eta 0:00:01\r\u001b[K     |█████▋                          | 235kB 8.2MB/s eta 0:00:01\r\u001b[K     |█████▉                          | 245kB 8.2MB/s eta 0:00:01\r\u001b[K     |██████                          | 256kB 8.2MB/s eta 0:00:01\r\u001b[K     |██████▎                         | 266kB 8.2MB/s eta 0:00:01\r\u001b[K     |██████▌                         | 276kB 8.2MB/s eta 0:00:01\r\u001b[K     |██████▉                         | 286kB 8.2MB/s eta 0:00:01\r\u001b[K     |███████                         | 296kB 8.2MB/s eta 0:00:01\r\u001b[K     |███████▎                        | 307kB 8.2MB/s eta 0:00:01\r\u001b[K     |███████▌                        | 317kB 8.2MB/s eta 0:00:01\r\u001b[K     |███████▊                        | 327kB 8.2MB/s eta 0:00:01\r\u001b[K     |████████                        | 337kB 8.2MB/s eta 0:00:01\r\u001b[K     |████████▎                       | 348kB 8.2MB/s eta 0:00:01\r\u001b[K     |████████▌                       | 358kB 8.2MB/s eta 0:00:01\r\u001b[K     |████████▊                       | 368kB 8.2MB/s eta 0:00:01\r\u001b[K     |█████████                       | 378kB 8.2MB/s eta 0:00:01\r\u001b[K     |█████████▏                      | 389kB 8.2MB/s eta 0:00:01\r\u001b[K     |█████████▌                      | 399kB 8.2MB/s eta 0:00:01\r\u001b[K     |█████████▊                      | 409kB 8.2MB/s eta 0:00:01\r\u001b[K     |██████████                      | 419kB 8.2MB/s eta 0:00:01\r\u001b[K     |██████████▏                     | 430kB 8.2MB/s eta 0:00:01\r\u001b[K     |██████████▍                     | 440kB 8.2MB/s eta 0:00:01\r\u001b[K     |██████████▋                     | 450kB 8.2MB/s eta 0:00:01\r\u001b[K     |███████████                     | 460kB 8.2MB/s eta 0:00:01\r\u001b[K     |███████████▏                    | 471kB 8.2MB/s eta 0:00:01\r\u001b[K     |███████████▍                    | 481kB 8.2MB/s eta 0:00:01\r\u001b[K     |███████████▋                    | 491kB 8.2MB/s eta 0:00:01\r\u001b[K     |███████████▉                    | 501kB 8.2MB/s eta 0:00:01\r\u001b[K     |████████████▏                   | 512kB 8.2MB/s eta 0:00:01\r\u001b[K     |████████████▍                   | 522kB 8.2MB/s eta 0:00:01\r\u001b[K     |████████████▋                   | 532kB 8.2MB/s eta 0:00:01\r\u001b[K     |████████████▉                   | 542kB 8.2MB/s eta 0:00:01\r\u001b[K     |█████████████                   | 552kB 8.2MB/s eta 0:00:01\r\u001b[K     |█████████████▎                  | 563kB 8.2MB/s eta 0:00:01\r\u001b[K     |█████████████▋                  | 573kB 8.2MB/s eta 0:00:01\r\u001b[K     |█████████████▉                  | 583kB 8.2MB/s eta 0:00:01\r\u001b[K     |██████████████                  | 593kB 8.2MB/s eta 0:00:01\r\u001b[K     |██████████████▎                 | 604kB 8.2MB/s eta 0:00:01\r\u001b[K     |██████████████▌                 | 614kB 8.2MB/s eta 0:00:01\r\u001b[K     |██████████████▉                 | 624kB 8.2MB/s eta 0:00:01\r\u001b[K     |███████████████                 | 634kB 8.2MB/s eta 0:00:01\r\u001b[K     |███████████████▎                | 645kB 8.2MB/s eta 0:00:01\r\u001b[K     |███████████████▌                | 655kB 8.2MB/s eta 0:00:01\r\u001b[K     |███████████████▊                | 665kB 8.2MB/s eta 0:00:01\r\u001b[K     |████████████████                | 675kB 8.2MB/s eta 0:00:01\r\u001b[K     |████████████████▎               | 686kB 8.2MB/s eta 0:00:01\r\u001b[K     |████████████████▌               | 696kB 8.2MB/s eta 0:00:01\r\u001b[K     |████████████████▊               | 706kB 8.2MB/s eta 0:00:01\r\u001b[K     |█████████████████               | 716kB 8.2MB/s eta 0:00:01\r\u001b[K     |█████████████████▏              | 727kB 8.2MB/s eta 0:00:01\r\u001b[K     |█████████████████▌              | 737kB 8.2MB/s eta 0:00:01\r\u001b[K     |█████████████████▊              | 747kB 8.2MB/s eta 0:00:01\r\u001b[K     |██████████████████              | 757kB 8.2MB/s eta 0:00:01\r\u001b[K     |██████████████████▏             | 768kB 8.2MB/s eta 0:00:01\r\u001b[K     |██████████████████▍             | 778kB 8.2MB/s eta 0:00:01\r\u001b[K     |██████████████████▋             | 788kB 8.2MB/s eta 0:00:01\r\u001b[K     |███████████████████             | 798kB 8.2MB/s eta 0:00:01\r\u001b[K     |███████████████████▏            | 808kB 8.2MB/s eta 0:00:01\r\u001b[K     |███████████████████▍            | 819kB 8.2MB/s eta 0:00:01\r\u001b[K     |███████████████████▋            | 829kB 8.2MB/s eta 0:00:01\r\u001b[K     |███████████████████▉            | 839kB 8.2MB/s eta 0:00:01\r\u001b[K     |████████████████████▏           | 849kB 8.2MB/s eta 0:00:01\r\u001b[K     |████████████████████▍           | 860kB 8.2MB/s eta 0:00:01\r\u001b[K     |████████████████████▋           | 870kB 8.2MB/s eta 0:00:01\r\u001b[K     |████████████████████▉           | 880kB 8.2MB/s eta 0:00:01\r\u001b[K     |█████████████████████           | 890kB 8.2MB/s eta 0:00:01\r\u001b[K     |█████████████████████▎          | 901kB 8.2MB/s eta 0:00:01\r\u001b[K     |█████████████████████▋          | 911kB 8.2MB/s eta 0:00:01\r\u001b[K     |█████████████████████▉          | 921kB 8.2MB/s eta 0:00:01\r\u001b[K     |██████████████████████          | 931kB 8.2MB/s eta 0:00:01\r\u001b[K     |██████████████████████▎         | 942kB 8.2MB/s eta 0:00:01\r\u001b[K     |██████████████████████▌         | 952kB 8.2MB/s eta 0:00:01\r\u001b[K     |██████████████████████▊         | 962kB 8.2MB/s eta 0:00:01\r\u001b[K     |███████████████████████         | 972kB 8.2MB/s eta 0:00:01\r\u001b[K     |███████████████████████▎        | 983kB 8.2MB/s eta 0:00:01\r\u001b[K     |███████████████████████▌        | 993kB 8.2MB/s eta 0:00:01\r\u001b[K     |███████████████████████▊        | 1.0MB 8.2MB/s eta 0:00:01\r\u001b[K     |████████████████████████        | 1.0MB 8.2MB/s eta 0:00:01\r\u001b[K     |████████████████████████▎       | 1.0MB 8.2MB/s eta 0:00:01\r\u001b[K     |████████████████████████▌       | 1.0MB 8.2MB/s eta 0:00:01\r\u001b[K     |████████████████████████▊       | 1.0MB 8.2MB/s eta 0:00:01\r\u001b[K     |█████████████████████████       | 1.1MB 8.2MB/s eta 0:00:01\r\u001b[K     |█████████████████████████▏      | 1.1MB 8.2MB/s eta 0:00:01\r\u001b[K     |█████████████████████████▍      | 1.1MB 8.2MB/s eta 0:00:01\r\u001b[K     |█████████████████████████▊      | 1.1MB 8.2MB/s eta 0:00:01\r\u001b[K     |██████████████████████████      | 1.1MB 8.2MB/s eta 0:00:01\r\u001b[K     |██████████████████████████▏     | 1.1MB 8.2MB/s eta 0:00:01\r\u001b[K     |██████████████████████████▍     | 1.1MB 8.2MB/s eta 0:00:01\r\u001b[K     |██████████████████████████▋     | 1.1MB 8.2MB/s eta 0:00:01\r\u001b[K     |███████████████████████████     | 1.1MB 8.2MB/s eta 0:00:01\r\u001b[K     |███████████████████████████▏    | 1.1MB 8.2MB/s eta 0:00:01\r\u001b[K     |███████████████████████████▍    | 1.2MB 8.2MB/s eta 0:00:01\r\u001b[K     |███████████████████████████▋    | 1.2MB 8.2MB/s eta 0:00:01\r\u001b[K     |███████████████████████████▉    | 1.2MB 8.2MB/s eta 0:00:01\r\u001b[K     |████████████████████████████    | 1.2MB 8.2MB/s eta 0:00:01\r\u001b[K     |████████████████████████████▍   | 1.2MB 8.2MB/s eta 0:00:01\r\u001b[K     |████████████████████████████▋   | 1.2MB 8.2MB/s eta 0:00:01\r\u001b[K     |████████████████████████████▉   | 1.2MB 8.2MB/s eta 0:00:01\r\u001b[K     |█████████████████████████████   | 1.2MB 8.2MB/s eta 0:00:01\r\u001b[K     |█████████████████████████████▎  | 1.2MB 8.2MB/s eta 0:00:01\r\u001b[K     |█████████████████████████████▋  | 1.2MB 8.2MB/s eta 0:00:01\r\u001b[K     |█████████████████████████████▉  | 1.3MB 8.2MB/s eta 0:00:01\r\u001b[K     |██████████████████████████████  | 1.3MB 8.2MB/s eta 0:00:01\r\u001b[K     |██████████████████████████████▎ | 1.3MB 8.2MB/s eta 0:00:01\r\u001b[K     |██████████████████████████████▌ | 1.3MB 8.2MB/s eta 0:00:01\r\u001b[K     |██████████████████████████████▊ | 1.3MB 8.2MB/s eta 0:00:01\r\u001b[K     |███████████████████████████████ | 1.3MB 8.2MB/s eta 0:00:01\r\u001b[K     |███████████████████████████████▎| 1.3MB 8.2MB/s eta 0:00:01\r\u001b[K     |███████████████████████████████▌| 1.3MB 8.2MB/s eta 0:00:01\r\u001b[K     |███████████████████████████████▊| 1.3MB 8.2MB/s eta 0:00:01\r\u001b[K     |████████████████████████████████| 1.4MB 8.2MB/s eta 0:00:01\r\u001b[K     |████████████████████████████████| 1.4MB 8.2MB/s \n",
            "\u001b[?25hRequirement already satisfied: requests in /usr/local/lib/python3.6/dist-packages (from transformers) (2.23.0)\n",
            "Collecting tokenizers==0.9.4\n",
            "\u001b[?25l  Downloading https://files.pythonhosted.org/packages/0f/1c/e789a8b12e28be5bc1ce2156cf87cb522b379be9cadc7ad8091a4cc107c4/tokenizers-0.9.4-cp36-cp36m-manylinux2010_x86_64.whl (2.9MB)\n",
            "\u001b[K     |████████████████████████████████| 2.9MB 15.9MB/s \n",
            "\u001b[?25hCollecting sacremoses\n",
            "\u001b[?25l  Downloading https://files.pythonhosted.org/packages/7d/34/09d19aff26edcc8eb2a01bed8e98f13a1537005d31e95233fd48216eed10/sacremoses-0.0.43.tar.gz (883kB)\n",
            "\u001b[K     |████████████████████████████████| 890kB 55.1MB/s \n",
            "\u001b[?25hRequirement already satisfied: dataclasses; python_version < \"3.7\" in /usr/local/lib/python3.6/dist-packages (from transformers) (0.8)\n",
            "Requirement already satisfied: filelock in /usr/local/lib/python3.6/dist-packages (from transformers) (3.0.12)\n",
            "Requirement already satisfied: numpy in /usr/local/lib/python3.6/dist-packages (from transformers) (1.18.5)\n",
            "Requirement already satisfied: tqdm>=4.27 in /usr/local/lib/python3.6/dist-packages (from transformers) (4.41.1)\n",
            "Requirement already satisfied: regex!=2019.12.17 in /usr/local/lib/python3.6/dist-packages (from transformers) (2019.12.20)\n",
            "Requirement already satisfied: packaging in /usr/local/lib/python3.6/dist-packages (from transformers) (20.7)\n",
            "Requirement already satisfied: idna<3,>=2.5 in /usr/local/lib/python3.6/dist-packages (from requests->transformers) (2.10)\n",
            "Requirement already satisfied: certifi>=2017.4.17 in /usr/local/lib/python3.6/dist-packages (from requests->transformers) (2020.12.5)\n",
            "Requirement already satisfied: urllib3!=1.25.0,!=1.25.1,<1.26,>=1.21.1 in /usr/local/lib/python3.6/dist-packages (from requests->transformers) (1.24.3)\n",
            "Requirement already satisfied: chardet<4,>=3.0.2 in /usr/local/lib/python3.6/dist-packages (from requests->transformers) (3.0.4)\n",
            "Requirement already satisfied: six in /usr/local/lib/python3.6/dist-packages (from sacremoses->transformers) (1.15.0)\n",
            "Requirement already satisfied: click in /usr/local/lib/python3.6/dist-packages (from sacremoses->transformers) (7.1.2)\n",
            "Requirement already satisfied: joblib in /usr/local/lib/python3.6/dist-packages (from sacremoses->transformers) (0.17.0)\n",
            "Requirement already satisfied: pyparsing>=2.0.2 in /usr/local/lib/python3.6/dist-packages (from packaging->transformers) (2.4.7)\n",
            "Building wheels for collected packages: sacremoses\n",
            "  Building wheel for sacremoses (setup.py) ... \u001b[?25l\u001b[?25hdone\n",
            "  Created wheel for sacremoses: filename=sacremoses-0.0.43-cp36-none-any.whl size=893261 sha256=ba61a9d0986391ac87b5bfe6a9e35345622ee824fdf719d4dd916758ae0196e7\n",
            "  Stored in directory: /root/.cache/pip/wheels/29/3c/fd/7ce5c3f0666dab31a50123635e6fb5e19ceb42ce38d4e58f45\n",
            "Successfully built sacremoses\n",
            "Installing collected packages: tokenizers, sacremoses, transformers\n",
            "Successfully installed sacremoses-0.0.43 tokenizers-0.9.4 transformers-4.0.1\n"
          ],
          "name": "stdout"
        }
      ]
    },
    {
      "cell_type": "code",
      "metadata": {
        "id": "_0lj4lrZqxv2",
        "outputId": "cd6799fb-6b17-480a-b9f1-ec181d6cd880",
        "colab": {
          "base_uri": "https://localhost:8080/"
        }
      },
      "source": [
        "pip install sentencepiece"
      ],
      "execution_count": 1,
      "outputs": [
        {
          "output_type": "stream",
          "text": [
            "Collecting sentencepiece\n",
            "\u001b[?25l  Downloading https://files.pythonhosted.org/packages/e5/2d/6d4ca4bef9a67070fa1cac508606328329152b1df10bdf31fb6e4e727894/sentencepiece-0.1.94-cp36-cp36m-manylinux2014_x86_64.whl (1.1MB)\n",
            "\r\u001b[K     |▎                               | 10kB 4.0MB/s eta 0:00:01\r\u001b[K     |▋                               | 20kB 6.1MB/s eta 0:00:01\r\u001b[K     |▉                               | 30kB 5.9MB/s eta 0:00:01\r\u001b[K     |█▏                              | 40kB 4.7MB/s eta 0:00:01\r\u001b[K     |█▌                              | 51kB 5.6MB/s eta 0:00:01\r\u001b[K     |█▊                              | 61kB 6.5MB/s eta 0:00:01\r\u001b[K     |██                              | 71kB 6.9MB/s eta 0:00:01\r\u001b[K     |██▍                             | 81kB 7.2MB/s eta 0:00:01\r\u001b[K     |██▋                             | 92kB 7.7MB/s eta 0:00:01\r\u001b[K     |███                             | 102kB 6.8MB/s eta 0:00:01\r\u001b[K     |███▎                            | 112kB 6.8MB/s eta 0:00:01\r\u001b[K     |███▌                            | 122kB 6.8MB/s eta 0:00:01\r\u001b[K     |███▉                            | 133kB 6.8MB/s eta 0:00:01\r\u001b[K     |████▏                           | 143kB 6.8MB/s eta 0:00:01\r\u001b[K     |████▍                           | 153kB 6.8MB/s eta 0:00:01\r\u001b[K     |████▊                           | 163kB 6.8MB/s eta 0:00:01\r\u001b[K     |█████                           | 174kB 6.8MB/s eta 0:00:01\r\u001b[K     |█████▎                          | 184kB 6.8MB/s eta 0:00:01\r\u001b[K     |█████▋                          | 194kB 6.8MB/s eta 0:00:01\r\u001b[K     |█████▉                          | 204kB 6.8MB/s eta 0:00:01\r\u001b[K     |██████▏                         | 215kB 6.8MB/s eta 0:00:01\r\u001b[K     |██████▌                         | 225kB 6.8MB/s eta 0:00:01\r\u001b[K     |██████▊                         | 235kB 6.8MB/s eta 0:00:01\r\u001b[K     |███████                         | 245kB 6.8MB/s eta 0:00:01\r\u001b[K     |███████▍                        | 256kB 6.8MB/s eta 0:00:01\r\u001b[K     |███████▋                        | 266kB 6.8MB/s eta 0:00:01\r\u001b[K     |████████                        | 276kB 6.8MB/s eta 0:00:01\r\u001b[K     |████████▎                       | 286kB 6.8MB/s eta 0:00:01\r\u001b[K     |████████▌                       | 296kB 6.8MB/s eta 0:00:01\r\u001b[K     |████████▉                       | 307kB 6.8MB/s eta 0:00:01\r\u001b[K     |█████████                       | 317kB 6.8MB/s eta 0:00:01\r\u001b[K     |█████████▍                      | 327kB 6.8MB/s eta 0:00:01\r\u001b[K     |█████████▊                      | 337kB 6.8MB/s eta 0:00:01\r\u001b[K     |██████████                      | 348kB 6.8MB/s eta 0:00:01\r\u001b[K     |██████████▎                     | 358kB 6.8MB/s eta 0:00:01\r\u001b[K     |██████████▋                     | 368kB 6.8MB/s eta 0:00:01\r\u001b[K     |██████████▉                     | 378kB 6.8MB/s eta 0:00:01\r\u001b[K     |███████████▏                    | 389kB 6.8MB/s eta 0:00:01\r\u001b[K     |███████████▌                    | 399kB 6.8MB/s eta 0:00:01\r\u001b[K     |███████████▊                    | 409kB 6.8MB/s eta 0:00:01\r\u001b[K     |████████████                    | 419kB 6.8MB/s eta 0:00:01\r\u001b[K     |████████████▍                   | 430kB 6.8MB/s eta 0:00:01\r\u001b[K     |████████████▋                   | 440kB 6.8MB/s eta 0:00:01\r\u001b[K     |█████████████                   | 450kB 6.8MB/s eta 0:00:01\r\u001b[K     |█████████████▎                  | 460kB 6.8MB/s eta 0:00:01\r\u001b[K     |█████████████▌                  | 471kB 6.8MB/s eta 0:00:01\r\u001b[K     |█████████████▉                  | 481kB 6.8MB/s eta 0:00:01\r\u001b[K     |██████████████                  | 491kB 6.8MB/s eta 0:00:01\r\u001b[K     |██████████████▍                 | 501kB 6.8MB/s eta 0:00:01\r\u001b[K     |██████████████▊                 | 512kB 6.8MB/s eta 0:00:01\r\u001b[K     |███████████████                 | 522kB 6.8MB/s eta 0:00:01\r\u001b[K     |███████████████▎                | 532kB 6.8MB/s eta 0:00:01\r\u001b[K     |███████████████▋                | 542kB 6.8MB/s eta 0:00:01\r\u001b[K     |███████████████▉                | 552kB 6.8MB/s eta 0:00:01\r\u001b[K     |████████████████▏               | 563kB 6.8MB/s eta 0:00:01\r\u001b[K     |████████████████▌               | 573kB 6.8MB/s eta 0:00:01\r\u001b[K     |████████████████▊               | 583kB 6.8MB/s eta 0:00:01\r\u001b[K     |█████████████████               | 593kB 6.8MB/s eta 0:00:01\r\u001b[K     |█████████████████▍              | 604kB 6.8MB/s eta 0:00:01\r\u001b[K     |█████████████████▋              | 614kB 6.8MB/s eta 0:00:01\r\u001b[K     |██████████████████              | 624kB 6.8MB/s eta 0:00:01\r\u001b[K     |██████████████████▏             | 634kB 6.8MB/s eta 0:00:01\r\u001b[K     |██████████████████▌             | 645kB 6.8MB/s eta 0:00:01\r\u001b[K     |██████████████████▉             | 655kB 6.8MB/s eta 0:00:01\r\u001b[K     |███████████████████             | 665kB 6.8MB/s eta 0:00:01\r\u001b[K     |███████████████████▍            | 675kB 6.8MB/s eta 0:00:01\r\u001b[K     |███████████████████▊            | 686kB 6.8MB/s eta 0:00:01\r\u001b[K     |████████████████████            | 696kB 6.8MB/s eta 0:00:01\r\u001b[K     |████████████████████▎           | 706kB 6.8MB/s eta 0:00:01\r\u001b[K     |████████████████████▋           | 716kB 6.8MB/s eta 0:00:01\r\u001b[K     |████████████████████▉           | 727kB 6.8MB/s eta 0:00:01\r\u001b[K     |█████████████████████▏          | 737kB 6.8MB/s eta 0:00:01\r\u001b[K     |█████████████████████▌          | 747kB 6.8MB/s eta 0:00:01\r\u001b[K     |█████████████████████▊          | 757kB 6.8MB/s eta 0:00:01\r\u001b[K     |██████████████████████          | 768kB 6.8MB/s eta 0:00:01\r\u001b[K     |██████████████████████▎         | 778kB 6.8MB/s eta 0:00:01\r\u001b[K     |██████████████████████▋         | 788kB 6.8MB/s eta 0:00:01\r\u001b[K     |███████████████████████         | 798kB 6.8MB/s eta 0:00:01\r\u001b[K     |███████████████████████▏        | 808kB 6.8MB/s eta 0:00:01\r\u001b[K     |███████████████████████▌        | 819kB 6.8MB/s eta 0:00:01\r\u001b[K     |███████████████████████▉        | 829kB 6.8MB/s eta 0:00:01\r\u001b[K     |████████████████████████        | 839kB 6.8MB/s eta 0:00:01\r\u001b[K     |████████████████████████▍       | 849kB 6.8MB/s eta 0:00:01\r\u001b[K     |████████████████████████▊       | 860kB 6.8MB/s eta 0:00:01\r\u001b[K     |█████████████████████████       | 870kB 6.8MB/s eta 0:00:01\r\u001b[K     |█████████████████████████▎      | 880kB 6.8MB/s eta 0:00:01\r\u001b[K     |█████████████████████████▋      | 890kB 6.8MB/s eta 0:00:01\r\u001b[K     |█████████████████████████▉      | 901kB 6.8MB/s eta 0:00:01\r\u001b[K     |██████████████████████████▏     | 911kB 6.8MB/s eta 0:00:01\r\u001b[K     |██████████████████████████▌     | 921kB 6.8MB/s eta 0:00:01\r\u001b[K     |██████████████████████████▊     | 931kB 6.8MB/s eta 0:00:01\r\u001b[K     |███████████████████████████     | 942kB 6.8MB/s eta 0:00:01\r\u001b[K     |███████████████████████████▎    | 952kB 6.8MB/s eta 0:00:01\r\u001b[K     |███████████████████████████▋    | 962kB 6.8MB/s eta 0:00:01\r\u001b[K     |████████████████████████████    | 972kB 6.8MB/s eta 0:00:01\r\u001b[K     |████████████████████████████▏   | 983kB 6.8MB/s eta 0:00:01\r\u001b[K     |████████████████████████████▌   | 993kB 6.8MB/s eta 0:00:01\r\u001b[K     |████████████████████████████▉   | 1.0MB 6.8MB/s eta 0:00:01\r\u001b[K     |█████████████████████████████   | 1.0MB 6.8MB/s eta 0:00:01\r\u001b[K     |█████████████████████████████▍  | 1.0MB 6.8MB/s eta 0:00:01\r\u001b[K     |█████████████████████████████▊  | 1.0MB 6.8MB/s eta 0:00:01\r\u001b[K     |██████████████████████████████  | 1.0MB 6.8MB/s eta 0:00:01\r\u001b[K     |██████████████████████████████▎ | 1.1MB 6.8MB/s eta 0:00:01\r\u001b[K     |██████████████████████████████▋ | 1.1MB 6.8MB/s eta 0:00:01\r\u001b[K     |██████████████████████████████▉ | 1.1MB 6.8MB/s eta 0:00:01\r\u001b[K     |███████████████████████████████▏| 1.1MB 6.8MB/s eta 0:00:01\r\u001b[K     |███████████████████████████████▍| 1.1MB 6.8MB/s eta 0:00:01\r\u001b[K     |███████████████████████████████▊| 1.1MB 6.8MB/s eta 0:00:01\r\u001b[K     |████████████████████████████████| 1.1MB 6.8MB/s \n",
            "\u001b[?25hInstalling collected packages: sentencepiece\n",
            "Successfully installed sentencepiece-0.1.94\n"
          ],
          "name": "stdout"
        }
      ]
    },
    {
      "cell_type": "code",
      "metadata": {
        "id": "Bwd0sBy-snnD"
      },
      "source": [
        ""
      ],
      "execution_count": null,
      "outputs": []
    },
    {
      "cell_type": "code",
      "metadata": {
        "id": "Xjvu9ZmssntT"
      },
      "source": [
        "import pandas as pd"
      ],
      "execution_count": 4,
      "outputs": []
    },
    {
      "cell_type": "code",
      "metadata": {
        "colab": {
          "resources": {
            "http://localhost:8080/nbextensions/google.colab/files.js": {
              "data": "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",
              "ok": true,
              "headers": [
                [
                  "content-type",
                  "application/javascript"
                ]
              ],
              "status": 200,
              "status_text": ""
            }
          },
          "base_uri": "https://localhost:8080/",
          "height": 73
        },
        "id": "LqoS2V6WsnwM",
        "outputId": "aa6136d2-52d8-4551-ebe0-9aa474fed240"
      },
      "source": [
        "from google.colab import files \n",
        "  \n",
        "  \n",
        "uploaded = files.upload()"
      ],
      "execution_count": 5,
      "outputs": [
        {
          "output_type": "display_data",
          "data": {
            "text/html": [
              "\n",
              "     <input type=\"file\" id=\"files-498b0b91-3e83-47f9-ba73-7733cba6c8fc\" name=\"files[]\" multiple disabled\n",
              "        style=\"border:none\" />\n",
              "     <output id=\"result-498b0b91-3e83-47f9-ba73-7733cba6c8fc\">\n",
              "      Upload widget is only available when the cell has been executed in the\n",
              "      current browser session. Please rerun this cell to enable.\n",
              "      </output>\n",
              "      <script src=\"/nbextensions/google.colab/files.js\"></script> "
            ],
            "text/plain": [
              "<IPython.core.display.HTML object>"
            ]
          },
          "metadata": {
            "tags": []
          }
        },
        {
          "output_type": "stream",
          "text": [
            "Saving cisco_sample.xlsx to cisco_sample.xlsx\n"
          ],
          "name": "stdout"
        }
      ]
    },
    {
      "cell_type": "code",
      "metadata": {
        "colab": {
          "base_uri": "https://localhost:8080/"
        },
        "id": "m0J4lzpfsnzE",
        "outputId": "9789d346-3924-41f1-a41d-51a30d4d3645"
      },
      "source": [
        "import pandas as pd \n",
        "import io \n",
        "  \n",
        "df = pd.read_excel(io.BytesIO(uploaded['cisco_sample.xlsx'])) \n",
        "print(df)"
      ],
      "execution_count": 6,
      "outputs": [
        {
          "output_type": "stream",
          "text": [
            "                            Product  ...                                           Question\n",
            "0                        Cisco 9400  ...   what are the features of  Catalyst 9400 Series ?\n",
            "1                      Cisco 9400    ...    what is the warrenty period for Catalyst 9400 ?\n",
            "2                        Cisco 8500  ...  Advantage of Catalyst 9300 Series over the pre...\n",
            "3                        Cisco 8500  ...  How to get access to all Catalyst 8500 platfor...\n",
            "4                   8841 TSG Phones  ...      What are the Key features of 8841 TSG Phones?\n",
            "5   8841 cucm 12.5 activation codes  ...           what is 8841 cucm 12.5 activation codes?\n",
            "6                   8841 TSG Phones  ...                                  what is 8841 TSG?\n",
            "7                   8841 TSG Phones  ...  What are the Advantage of 8841 TSG Over pervio...\n",
            "8                   8841 TSG Phones  ...           How to delete itl file cisco phone 8841?\n",
            "9                      Cisco Phones  ...                      How do I mute my Cisco phone?\n",
            "10                  8841 TSG Phones  ...    What are the specifications of 8841 TSG Phones?\n",
            "11                       Cisco 8500  ...  8500 and 8300 are successors of what platforms...\n",
            "12                       Cisco 8300  ...  Belonging to the Catalyst family, does the 830...\n",
            "13                       Cisco 8500  ...  Do I need to add any license to be allowed to ...\n",
            "14                       Cisco 8500  ...  Is the C8500 supported as SDA Fabric border/co...\n",
            "15                       Cisco 9400  ...      How to recover cisco catalyst 9400 password ?\n",
            "16                       Cisco 9400  ...  What are the specifications of cisco Catalyst ...\n",
            "\n",
            "[17 rows x 5 columns]\n"
          ],
          "name": "stdout"
        }
      ]
    },
    {
      "cell_type": "code",
      "metadata": {
        "colab": {
          "base_uri": "https://localhost:8080/"
        },
        "id": "Mif8UyO5sn1x",
        "outputId": "7224a60b-b0ff-4b63-e1da-0d3989fbbf76"
      },
      "source": [
        "df.columns"
      ],
      "execution_count": null,
      "outputs": [
        {
          "output_type": "execute_result",
          "data": {
            "text/plain": [
              "Index(['Product', 'Category', 'Solution', 'Link', 'Question'], dtype='object')"
            ]
          },
          "metadata": {
            "tags": []
          },
          "execution_count": 10
        }
      ]
    },
    {
      "cell_type": "code",
      "metadata": {
        "colab": {
          "base_uri": "https://localhost:8080/",
          "height": 333,
          "referenced_widgets": [
            "88dc7b6ce28440ef8a4c439f313f7bde",
            "d4a3d483161e4ff7a7be94a7934ed54e",
            "d405af5af7d047358ab4aef13af6d83b",
            "fda7d9f29fb54ddcad75eecafebbde8c",
            "0cfb85a95497450c8b2badd520789a5c",
            "f8dc0dab485c4df8b5242704fbf7cad0",
            "a415f9d64f4b48ea912c1dfffad40ac2",
            "b839c96bbdfb4ebe83b4ab07ba3e35f0",
            "75ca1158076d43ec86bc5e85ee692605",
            "a1c4399dcf23468ebb69f66451e63139",
            "47319c1d47b640689adce77b6ee71359",
            "28c0bd07b93d41448010f3eac7ba6bda",
            "65d6d6e56b75498681f6d525a5646a77",
            "56fcdd7f1ce447a495fae843097ce957",
            "827cf5931fc0452a9bb797e83674f42b",
            "0c2b2a1517e04c55a0f7a9a18e732d2e",
            "03137766e5ae412f981e7b4994c489ac",
            "dbf0892227724791a8460d17882964ba",
            "6fd016b073594d68ac45243cb7e5b18f",
            "b115319d480c4121b6fe4dd7eead65d5",
            "333b528fe5914edcb8a37494b97e85da",
            "57f40b066d86407b9e808d50aa6536c4",
            "499701957f5241f18c4d4776f48c2791",
            "b1359b6b1c1a4ec4a4b5f271d8c52146",
            "5ff2a750026146a88550c3afce178159",
            "89e45d02f1e64655b934f955f131654c",
            "5eea331cbbaf407f84f893835987a69f",
            "77deb0fb5e734936ae3029bacfb7a346",
            "ad6e8602770f4f17bfc0e1ade0b7ad73",
            "b10f655a5bb541bdbd07b8dcadc4c991",
            "9c2f174d54d44e2a92a5c9e55378339f",
            "b2e976899fbc4f48962d246f2fc216ac",
            "be57361d12f3405eaf90f88113103413",
            "d07d8918b9824040a80aca79dc349236",
            "f3e28a8c6cdd41fcbe691009a8d4d713",
            "ab2c13f04e054ef88ac8deec2ff10565",
            "5b1e33fe4bd74660bef848626f49b334",
            "3d6da7a314f740b2a155ce0084450fbe",
            "5b78f78822d24efaa64f032388545dea",
            "670d06dae3ce46c3a55f476907c17a9e"
          ]
        },
        "id": "nfbB6ezJsn4h",
        "outputId": "992a8ef7-267e-443e-ab48-6d3dd7eea031"
      },
      "source": [
        "from transformers import AutoTokenizer, AutoModelForSequenceClassification\n",
        "import torch\n",
        "\n",
        "max_length = 256\n",
        "\n",
        "\n",
        "#hg_model_hub_name = \"ynie/roberta-large-snli_mnli_fever_anli_R1_R2_R3-nli\"\n",
        "hg_model_hub_name = \"ynie/albert-xxlarge-v2-snli_mnli_fever_anli_R1_R2_R3-nli\"\n",
        "# hg_model_hub_name = \"ynie/bart-large-snli_mnli_fever_anli_R1_R2_R3-nli\"\n",
        "# hg_model_hub_name = \"ynie/electra-large-discriminator-snli_mnli_fever_anli_R1_R2_R3-nli\"\n",
        "# hg_model_hub_name = \"ynie/xlnet-large-cased-snli_mnli_fever_anli_R1_R2_R3-nli\"\n",
        "\n",
        "tokenizer = AutoTokenizer.from_pretrained(hg_model_hub_name)\n",
        "model = AutoModelForSequenceClassification.from_pretrained(hg_model_hub_name)\n",
        "\n",
        "\n",
        "\n",
        "premise = str(input('Premise: '))\n",
        "confidence_limit= 0.1\n",
        "relevant_que= []\n",
        "\n",
        "for i in range(len(df['Question'])):\n",
        "  hypothesis= str(df.iloc[i,4])\n",
        "  tokenized_input_seq_pair = tokenizer.encode_plus(premise, hypothesis,\n",
        "                                                     max_length=max_length,\n",
        "                                                     return_token_type_ids=True, truncation=True)\n",
        "  \n",
        "  input_ids = torch.Tensor(tokenized_input_seq_pair['input_ids']).long().unsqueeze(0)\n",
        "  token_type_ids = torch.Tensor(tokenized_input_seq_pair['token_type_ids']).long().unsqueeze(0)\n",
        "  attention_mask = torch.Tensor(tokenized_input_seq_pair['attention_mask']).long().unsqueeze(0)\n",
        "\n",
        "  outputs = model(input_ids,attention_mask=attention_mask,token_type_ids=token_type_ids,labels=None)\n",
        "\n",
        "  predicted_probability = torch.softmax(outputs[0], dim=1)[0].tolist()\n",
        "\n",
        "  #print(\"Premise:\", premise)\n",
        "  #print(\"Hypothesis:\", hypothesis)\n",
        "  #print(\"Entailment:\", predicted_probability[0])\n",
        "  #print(\"Neutral:\", predicted_probability[1])\n",
        "  #print(\"Contradiction:\", predicted_probability[2])\n",
        "  if predicted_probability[0] >= confidence_limit:\n",
        "    relevant_que.append(hypothesis)\n",
        "  \n",
        "print('Hpyothesis:')  \n",
        "print('\\n'.join(relevant_que))\n",
        "\n",
        " # Note:\n",
        "    # \"id2label\": {\n",
        "    #     \"0\": \"entailment\",\n",
        "    #     \"1\": \"neutral\",\n",
        "    #     \"2\": \"contradiction\"\n",
        "    # },\n",
        "\n",
        "  \n",
        "  "
      ],
      "execution_count": 7,
      "outputs": [
        {
          "output_type": "display_data",
          "data": {
            "application/vnd.jupyter.widget-view+json": {
              "model_id": "88dc7b6ce28440ef8a4c439f313f7bde",
              "version_minor": 0,
              "version_major": 2
            },
            "text/plain": [
              "HBox(children=(FloatProgress(value=0.0, description='Downloading', max=896.0, style=ProgressStyle(description_…"
            ]
          },
          "metadata": {
            "tags": []
          }
        },
        {
          "output_type": "stream",
          "text": [
            "\n"
          ],
          "name": "stdout"
        },
        {
          "output_type": "display_data",
          "data": {
            "application/vnd.jupyter.widget-view+json": {
              "model_id": "75ca1158076d43ec86bc5e85ee692605",
              "version_minor": 0,
              "version_major": 2
            },
            "text/plain": [
              "HBox(children=(FloatProgress(value=0.0, description='Downloading', max=760289.0, style=ProgressStyle(descripti…"
            ]
          },
          "metadata": {
            "tags": []
          }
        },
        {
          "output_type": "stream",
          "text": [
            "\n"
          ],
          "name": "stdout"
        },
        {
          "output_type": "display_data",
          "data": {
            "application/vnd.jupyter.widget-view+json": {
              "model_id": "03137766e5ae412f981e7b4994c489ac",
              "version_minor": 0,
              "version_major": 2
            },
            "text/plain": [
              "HBox(children=(FloatProgress(value=0.0, description='Downloading', max=156.0, style=ProgressStyle(description_…"
            ]
          },
          "metadata": {
            "tags": []
          }
        },
        {
          "output_type": "stream",
          "text": [
            "\n"
          ],
          "name": "stdout"
        },
        {
          "output_type": "display_data",
          "data": {
            "application/vnd.jupyter.widget-view+json": {
              "model_id": "5ff2a750026146a88550c3afce178159",
              "version_minor": 0,
              "version_major": 2
            },
            "text/plain": [
              "HBox(children=(FloatProgress(value=0.0, description='Downloading', max=48.0, style=ProgressStyle(description_w…"
            ]
          },
          "metadata": {
            "tags": []
          }
        },
        {
          "output_type": "stream",
          "text": [
            "\n"
          ],
          "name": "stdout"
        },
        {
          "output_type": "display_data",
          "data": {
            "application/vnd.jupyter.widget-view+json": {
              "model_id": "be57361d12f3405eaf90f88113103413",
              "version_minor": 0,
              "version_major": 2
            },
            "text/plain": [
              "HBox(children=(FloatProgress(value=0.0, description='Downloading', max=890442685.0, style=ProgressStyle(descri…"
            ]
          },
          "metadata": {
            "tags": []
          }
        },
        {
          "output_type": "stream",
          "text": [
            "\n",
            "Premise: what is catalyst 9400\n",
            "Hpyothesis:\n",
            "what are the features of  Catalyst 9400 Series ?\n",
            "what is 8841 TSG?\n"
          ],
          "name": "stdout"
        }
      ]
    },
    {
      "cell_type": "code",
      "metadata": {
        "id": "_fqn0A7kFNN-"
      },
      "source": [
        ""
      ],
      "execution_count": null,
      "outputs": []
    },
    {
      "cell_type": "code",
      "metadata": {
        "id": "1Ut9NJnyFNRI"
      },
      "source": [
        ""
      ],
      "execution_count": null,
      "outputs": []
    }
  ]
}